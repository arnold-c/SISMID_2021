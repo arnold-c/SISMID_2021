{
 "cells": [
  {
   "cell_type": "markdown",
   "source": [
    "# <span style=\"color:blue;\"> SISMID Module 9: Lab 2 </span>\n",
    "    \n",
    "## <span style=\"color:blue;\"> Introduction to Networks with Python </span>\n",
    "\n",
    "#### <span style=\"color:blue;\"> Shweta Bansal, Tom Hladish, Joel Miller\n",
    "\n",
    "## Student name: [Callum Arnold]\n",
    "\n",
    "#### Date: July 15, 2021 (Session 2B)\n",
    "\n"
   ],
   "metadata": {
    "collapsed": false
   }
  },
  {
   "cell_type": "markdown",
   "source": [
    "# The goal of this lab is to start using Python and Jupyter notebooks, and do some review of the network concepts we have discussed so far.\n",
    "\n",
    "<img src=\"python.png\" style=\"width: 375px\" style=\"float: center;\">\n",
    "<img src=\"jupyter.png\" style=\"width: 200px\" style=\"float: center;\">\n",
    "<img src=\"cocalc.png\" style=\"width: 200px\" style=\"float: center;\">\n",
    "\n",
    "\n",
    "\n",
    "### What is Python?\n",
    "Python is a popular high-level programming language that is freely available and that makes solving a problem almost as easy as writing out one's thoughts about the solution. A Python interpreter (what you need to run a Python program) is available by default in OSX and Linux, and is now available for free from the Microsoft Store. Today, Python code powers everything from the making of animated movies, to drug discovery at pharmaceutical companies and operations on the International Space Station.\n",
    "\n",
    "### What is Jupyter Notebook?\n",
    "Jupyter Notebook (previously, IPython Notebook) is an *interactive* computing environment. This electronic document acts both as a workhorse to write and run your code and as a lab notebook for you to present your question (text), model (equations), methods (live code), results (code output and graphs), and conclusions (text) all in one place.\n",
    "\n",
    "### What is CoCalc?\n",
    "CoCalc (previously called Sagemath Cloud) is a web-based and cloud-based computing software that plays well with Jupyter Notebooks. In addition to being used for research, CoCalc also provides a good course management platform that we will be making use of.\n",
    "\n",
    "Note that you can use Jupyter Notebooks without using CoCalc, and you can use Python without using Jupyter Notebooks. If you have questions about how to continue using one or more of these tools outside of this course, feel free to ask during office hours.\n",
    "\n"
   ],
   "metadata": {
    "collapsed": false
   }
  },
  {
   "cell_type": "code",
   "execution_count": null,
   "source": [],
   "outputs": [],
   "metadata": {
    "collapsed": false
   }
  },
  {
   "cell_type": "markdown",
   "source": [
    "### CoCalc Cells\n",
    "You can create a new Markdown (text) cell by clicking in a cell (like this one) first and then using the black plus sign on the far left of the toolbar, and changing the dropdown menu from Code to Markdown. (Keyboard shortcut: **Esc,B,M** to insert Markdown cell)\n",
    "    \n",
    "#### <span style=\"color:orange;\"> Ex 0: Go ahead and add a Markdown cell below this one, and in a sentence or two, tell us why you're interested in contact network epidemiology.\n",
    "When you're done, render the text that you input by clicking on the Run Cell button in the toolbar (it is the fourth button from the left; Keyboard shortcut: **Shift+Enter**)."
   ],
   "metadata": {
    "collapsed": false
   }
  },
  {
   "cell_type": "markdown",
   "source": [
    "### Outline:\n",
    "1. Expressions\n",
    "2. Types\n",
    "3. Variables\n",
    "4. NetworkX\n",
    "5. Lists & Dictionaries\n",
    "6. Conditionals\n",
    "7. For Loops"
   ],
   "metadata": {
    "collapsed": false
   }
  },
  {
   "cell_type": "markdown",
   "source": [
    "<br>\n",
    "\n",
    "# 1. Expressions\n",
    "\n",
    "An expression is an operation that returns a value. For example, if the operation adds two numbers together then the valued returned is their sum.\n",
    "Expressions allow us to use Python to do basic computations (among other things).\n",
    "\n",
    "You'll find an expression (2+2) in the cell below. This cell is a Python code cell (you know this by the `In [  ]` in the front).\n",
    "    \n",
    "#### <span style=\"color:orange;\"> Ex 1.1: Run the code in the cell by clicking anywhere in the cell and pressing **Shift+Enter**"
   ],
   "metadata": {
    "collapsed": false
   }
  },
  {
   "cell_type": "code",
   "execution_count": 1,
   "source": [
    "2+2"
   ],
   "outputs": [
    {
     "output_type": "execute_result",
     "data": {
      "text/plain": [
       "4"
      ]
     },
     "metadata": {},
     "execution_count": 1
    }
   ],
   "metadata": {
    "collapsed": false
   }
  },
  {
   "cell_type": "markdown",
   "source": [
    "Expressions can also involve functions.  Python offers a built-in function for calculating absolute values, ``abs()``\n",
    "\n",
    "#### <span style=\"color:orange;\"> Ex 1.2: Try running the code below."
   ],
   "metadata": {
    "collapsed": true
   }
  },
  {
   "cell_type": "code",
   "execution_count": 2,
   "source": [
    "abs(-2)"
   ],
   "outputs": [
    {
     "output_type": "execute_result",
     "data": {
      "text/plain": [
       "2"
      ]
     },
     "metadata": {},
     "execution_count": 2
    }
   ],
   "metadata": {
    "collapsed": false,
    "scrolled": true
   }
  },
  {
   "cell_type": "markdown",
   "source": [
    "<br>\n",
    "\n",
    "# 2. Types\n",
    "\n",
    "All values and variables in Python have types.  Some simple ones include:\n",
    "\n",
    "* Integer: -1, 0, 1, 2, 3, 4, 5...\n",
    "* Float: -12.3, 0.001, 3.14159, 5.0\n",
    "* String: 'Helloooo',  'World', 'SISMID is the best'\n",
    "\n",
    "Types are important, because operations and functions may work with some types, and not others. For example, you can try to get Python to evaluate ``abs('SISMID')``, but it doesn't know how to. Only you can determine that.\n",
    "\n",
    "Some operations are defined for different types, but do different things.  For example, the plus sign does different things to strings and numbers. Run each of the computations below.\n",
    "    \n",
    "#### <span style=\"color:orange;\"> Ex 2.1: The sum of two integers:"
   ],
   "metadata": {
    "collapsed": false
   }
  },
  {
   "cell_type": "code",
   "execution_count": 3,
   "source": [
    "75+2"
   ],
   "outputs": [
    {
     "output_type": "execute_result",
     "data": {
      "text/plain": [
       "77"
      ]
     },
     "metadata": {},
     "execution_count": 3
    }
   ],
   "metadata": {
    "collapsed": false
   }
  },
  {
   "cell_type": "markdown",
   "source": [
    "#### <span style=\"color:orange;\"> Ex 2.2: The division of one float and one integer:"
   ],
   "metadata": {
    "collapsed": false
   }
  },
  {
   "cell_type": "code",
   "execution_count": 4,
   "source": [
    "15.0/2"
   ],
   "outputs": [
    {
     "output_type": "execute_result",
     "data": {
      "text/plain": [
       "7.5"
      ]
     },
     "metadata": {},
     "execution_count": 4
    }
   ],
   "metadata": {
    "collapsed": false
   }
  },
  {
   "cell_type": "markdown",
   "source": [
    "Note that in some earlier versions of Python (and in some other programming languages), 15/2 and 15.0/2 would give different answers! (Python 2.x considered 15/2 to be an integer operation, and as a result would return 7.)"
   ],
   "metadata": {
    "collapsed": false
   }
  },
  {
   "cell_type": "markdown",
   "source": [
    "#### <span style=\"color:orange;\"> Ex 2.3: You can also add two strings. Add a CoCalc Code cell below, and try it now."
   ],
   "metadata": {
    "collapsed": false
   }
  },
  {
   "cell_type": "markdown",
   "source": [
    "<br>\n",
    "\n",
    "# 3. Variables\n",
    "\n",
    "Instead of working with constants like ``2`` and ``hello world``, we often need to work with variables that can be assigned values.\n",
    "\n",
    "#### <span style=\"color:orange;\"> Ex 3.1: You can assign a value to a variable name using the equals sign:"
   ],
   "metadata": {
    "collapsed": false
   }
  },
  {
   "cell_type": "code",
   "execution_count": 5,
   "source": [
    "growth_rate_per_day = 7"
   ],
   "outputs": [],
   "metadata": {
    "collapsed": false
   }
  },
  {
   "cell_type": "markdown",
   "source": [
    "On the left hand side of the equals is the name of the variable. On the right hand side is that value that is assigned to it.\n",
    "\n",
    "#### <span style=\"color:orange;\"> Ex 3.2: Jupyter Notebooks also define a special ``whos`` command that gives you a table of defined variables.  Give it a try!"
   ],
   "metadata": {
    "collapsed": false
   }
  },
  {
   "cell_type": "code",
   "execution_count": 6,
   "source": [
    "whos"
   ],
   "outputs": [
    {
     "output_type": "stream",
     "name": "stdout",
     "text": [
      "Variable              Type      Data/Info\n",
      "-----------------------------------------\n",
      "growth_rate_per_day   int       7\n",
      "os                    module    <module 'os' from '/opt/h<...>da3/lib/python3.8/os.py'>\n",
      "sys                   module    <module 'sys' (built-in)>\n"
     ]
    }
   ],
   "metadata": {
    "collapsed": false
   }
  },
  {
   "cell_type": "markdown",
   "source": [
    "#### <span style=\"color:orange;\"> Ex 3.3: The variable name then can be used in expressions just like typing it's value."
   ],
   "metadata": {
    "collapsed": false
   }
  },
  {
   "cell_type": "code",
   "execution_count": 7,
   "source": [
    "growth_rate_per_day"
   ],
   "outputs": [
    {
     "output_type": "execute_result",
     "data": {
      "text/plain": [
       "7"
      ]
     },
     "metadata": {},
     "execution_count": 7
    }
   ],
   "metadata": {
    "collapsed": false
   }
  },
  {
   "cell_type": "code",
   "execution_count": 8,
   "source": [
    "10 + growth_rate_per_day * 2"
   ],
   "outputs": [
    {
     "output_type": "execute_result",
     "data": {
      "text/plain": [
       "24"
      ]
     },
     "metadata": {},
     "execution_count": 8
    }
   ],
   "metadata": {
    "collapsed": false
   }
  },
  {
   "cell_type": "markdown",
   "source": [
    "Note that Python respects the conventional order of operations.\n",
    "\n",
    "#### <span style=\"color:orange;\"> Ex 3.4: We can also do a calculation with a variable and then assign it to a new variable."
   ],
   "metadata": {
    "collapsed": false
   }
  },
  {
   "cell_type": "code",
   "execution_count": null,
   "source": [
    "growth_rate_per_year = growth_rate_per_day * 365"
   ],
   "outputs": [],
   "metadata": {
    "collapsed": false
   }
  },
  {
   "cell_type": "markdown",
   "source": [
    "Notice the naming scheme of the variable. While you can name a variable almost anything (except some reserved words that have special meaning in Python), it is common practice to:\n",
    "* use names that are explanatory of the variable's purpose - especially in long, complex programs, this is extremely important\n",
    "* separate multiple words with an underscore to make it easy to read (this is called pothole_case, as opposed to CamelCase)\n",
    "* use all-caps (e.g., ``PI``, ``DAYS_IN_YEAR``) to indicate that a variable should be respected as a constant by users\n",
    "\n",
    "While we're on the topic of easy to read code, notice the spaces in the above computation. Those spaces aren't required but make your code clean and readable."
   ],
   "metadata": {
    "collapsed": false
   }
  },
  {
   "cell_type": "markdown",
   "source": [
    "#### <span style=\"color:orange;\"> Ex 3.5: Last point on variables: We can also use the same variable on both sides of an equals sign. The way this works is counterintuitive from a mathematical perspective, but in Python the right-hand side of an assignment is evaluated first, and then stored in the variable named on the left-hand side."
   ],
   "metadata": {
    "collapsed": false
   }
  },
  {
   "cell_type": "code",
   "execution_count": 9,
   "source": [
    "# Since we were talking about making code readable, you can add comments in Python with the # symbol\n",
    "\n",
    "# This is a test of using variables names on both sides\n",
    "x = 10     # I am initializing x to 10\n",
    "x = x + 5  # Now, I'm adding 5 to x\n",
    "print(x)   # I want to see the value of x"
   ],
   "outputs": [
    {
     "output_type": "stream",
     "name": "stdout",
     "text": [
      "15\n"
     ]
    }
   ],
   "metadata": {
    "collapsed": false
   }
  },
  {
   "cell_type": "markdown",
   "source": [
    "When you run the above code, you'll notice that x is exactly what you expect it to be, because the order of operations are as follows:\n",
    "1. Look up the current value of x\n",
    "2. Add 5 to that value\n",
    "3. Assign the value resulting from the addition to x"
   ],
   "metadata": {
    "collapsed": false
   }
  },
  {
   "cell_type": "markdown",
   "source": [
    "You'll notice two additional things that are different about the above code.\n",
    "1. There are multiple lines of code within the same cell. Do it when it makes sense, but consider breaking code into multiple cells to reflect what the code means, just like we break text into paragraphs to convey the organization of our thoughts.\n",
    "2. If you aren't already, get in the habit of commenting your code now. Before you know it, you'll be writing complicated code that you'll want to provide a roadmap for at every step. Your collaborators--and your future self--will thank you."
   ],
   "metadata": {
    "collapsed": false
   }
  },
  {
   "cell_type": "markdown",
   "source": [
    "#### <span style=\"color:orange;\"> Ex 3.6: Count the number of people who have their webcams on, and the number of people who have their webcams off in our Zoom session.  Assign these values to variables and then sum them to determine the total number of students in the class. Make sure someone else would understand your code!"
   ],
   "metadata": {
    "collapsed": false
   }
  },
  {
   "cell_type": "markdown",
   "source": [
    "<br>\n",
    "\n",
    "# 4. Introduction to networkx (and global network properties)\n",
    "    \n",
    "While some language features (core functions, variables, and operations) are immediately available when you start up Python, there are *many* more that you can take advantage of by importing Python modules (called libraries or packages in other languages).  If you import a module into your program, you can use the different functions, etc., that are defined in that package. A good coding practice is to import all the modules you need at the beginning of your program code. This makes it immediately clear what your program's dependencies are, both to users and the Python interpreter. (Note: you only have to import a module once--after that, it stays available throughout your program.)\n",
    "\n",
    "#### NetworkX is the primary Python module we'll be using to work with networks\n",
    "You may want to look up available features and how to use various functions using the [NetworkX Reference Manual](https://networkx.github.io/documentation/stable/reference/).  The manual also provides a tutorial, which you may find helpful at some point. For now, however, let's dive in and start using NetworkX!"
   ],
   "metadata": {
    "collapsed": false
   }
  },
  {
   "cell_type": "markdown",
   "source": [
    "#### <span style=\"color:orange;\"> Ex 4.1: To begin, we need to import the module for NetworkX. This module can be used to create, manipulate, and compute statistics related to the structure of a network (or Graph--ironically, that's the term NetworkX uses). Also, let's import a plotting module provided by Matplotlib so that we can draw networks."
   ],
   "metadata": {
    "collapsed": false
   }
  },
  {
   "cell_type": "code",
   "execution_count": 10,
   "source": [
    "# Import modules\n",
    "import networkx\n",
    "import matplotlib.pyplot\n",
    "\n",
    "# Allow for network images to be displayed in the Jupyter notebook. This is a Jupyter 'magic function'--not Python.\n",
    "# This only needs to be done once in each notebook\n",
    "%matplotlib inline"
   ],
   "outputs": [],
   "metadata": {
    "collapsed": false
   }
  },
  {
   "cell_type": "markdown",
   "source": [
    "Note that you can also import modules with an alias, e.g. ``import networkx as nx``. This is pretty common, even in the NetworkX documentation, because then you don't have to type out the full name when you use the module.  If you do this in your own code, then you can prefix NetworkX functions and variables using the alias (e.g. ``nx.Graph()`` instead of ``networkx.Graph()``.)\n",
    "\n",
    "#### <span style=\"color:orange;\"> Ex 4.2: Now let's create a graph with 4 nodes and 4 edges. Display the graph on the screen."
   ],
   "metadata": {
    "collapsed": false
   }
  },
  {
   "cell_type": "code",
   "execution_count": 12,
   "source": [
    "# create an empty graph\n",
    "myGraph = networkx.Graph()\n",
    "\n",
    "# add three edges\n",
    "myGraph.add_edge('A','B')\n",
    "myGraph.add_edge('B','C')\n",
    "myGraph.add_edge('C','A')\n",
    "myGraph.add_edge('C','D')\n",
    "\n",
    "# let's double check that it's as big as we'd expect\n",
    "myNodeCount = myGraph.number_of_nodes()\n",
    "myEdgeCount = myGraph.number_of_edges()\n",
    "print(\"Graph node count: \", myNodeCount)\n",
    "print(\"Graph edge count: \", myEdgeCount)\n",
    "\n",
    "# draw the graph\n",
    "networkx.draw(myGraph, with_labels=True, node_color='orange') # networkx.draw(myGraph) draws a simpler version\n",
    "\n",
    "# display the graph\n",
    "# matplotlib.pyplot.show() # this command may not be needed; add it if networkx.draw() doesn't show the visualization"
   ],
   "outputs": [
    {
     "output_type": "stream",
     "name": "stdout",
     "text": [
      "Graph node count:  4\n",
      "Graph edge count:  4\n"
     ]
    },
    {
     "output_type": "display_data",
     "data": {
      "text/plain": [
       "<Figure size 432x288 with 1 Axes>"
      ],
      "image/png": "[encoded data removed]",
      "image/svg+xml": "<?xml version=\"1.0\" encoding=\"utf-8\" standalone=\"no\"?>\n<!DOCTYPE svg PUBLIC \"-//W3C//DTD SVG 1.1//EN\"\n  \"http://www.w3.org/Graphics/SVG/1.1/DTD/svg11.dtd\">\n<!-- Created with matplotlib (https://matplotlib.org/) -->\n<svg height=\"302.4pt\" version=\"1.1\" viewBox=\"0 0 446.4 302.4\" width=\"446.4pt\" xmlns=\"http://www.w3.org/2000/svg\" xmlns:xlink=\"http://www.w3.org/1999/xlink\">\n <metadata>\n  <rdf:RDF xmlns:cc=\"http://creativecommons.org/ns#\" xmlns:dc=\"http://purl.org/dc/elements/1.1/\" xmlns:rdf=\"http://www.w3.org/1999/02/22-rdf-syntax-ns#\">\n   <cc:Work>\n    <dc:type rdf:resource=\"http://purl.org/dc/dcmitype/StillImage\"/>\n    <dc:date>2021-07-15T12:32:28.112665</dc:date>\n    <dc:format>image/svg+xml</dc:format>\n    <dc:creator>\n     <cc:Agent>\n      <dc:title>Matplotlib v3.3.2, https://matplotlib.org/</dc:title>\n     </cc:Agent>\n    </dc:creator>\n   </cc:Work>\n  </rdf:RDF>\n </metadata>\n <defs>\n  <style type=\"text/css\">*{stroke-linecap:butt;stroke-linejoin:round;}</style>\n </defs>\n <g id=\"figure_1\">\n  <g id=\"patch_1\">\n   <path d=\"M 0 302.4 \nL 446.4 302.4 \nL 446.4 0 \nL 0 0 \nz\n\" style=\"fill:#ffffff;\"/>\n  </g>\n  <g id=\"axes_1\">\n   <g id=\"LineCollection_1\">\n    <path clip-path=\"url(#p8fa08a4fe0)\" d=\"M 419.563636 20.290909 \nL 26.836364 42.236933 \n\" style=\"fill:none;stroke:#000000;\"/>\n    <path clip-path=\"url(#p8fa08a4fe0)\" d=\"M 419.563636 20.290909 \nL 312.043586 144.977725 \n\" style=\"fill:none;stroke:#000000;\"/>\n    <path clip-path=\"url(#p8fa08a4fe0)\" d=\"M 26.836364 42.236933 \nL 312.043586 144.977725 \n\" style=\"fill:none;stroke:#000000;\"/>\n    <path clip-path=\"url(#p8fa08a4fe0)\" d=\"M 312.043586 144.977725 \nL 419.183103 282.109091 \n\" style=\"fill:none;stroke:#000000;\"/>\n   </g>\n   <g id=\"PathCollection_1\">\n    <defs>\n     <path d=\"M 0 8.660254 \nC 2.296726 8.660254 4.499694 7.747755 6.123724 6.123724 \nC 7.747755 4.499694 8.660254 2.296726 8.660254 0 \nC 8.660254 -2.296726 7.747755 -4.499694 6.123724 -6.123724 \nC 4.499694 -7.747755 2.296726 -8.660254 0 -8.660254 \nC -2.296726 -8.660254 -4.499694 -7.747755 -6.123724 -6.123724 \nC -7.747755 -4.499694 -8.660254 -2.296726 -8.660254 0 \nC -8.660254 2.296726 -7.747755 4.499694 -6.123724 6.123724 \nC -4.499694 7.747755 -2.296726 8.660254 0 8.660254 \nz\n\" id=\"m600d9243c8\" style=\"stroke:#ffa500;\"/>\n    </defs>\n    <g clip-path=\"url(#p8fa08a4fe0)\">\n     <use style=\"fill:#ffa500;stroke:#ffa500;\" x=\"419.563636\" xlink:href=\"#m600d9243c8\" y=\"20.290909\"/>\n     <use style=\"fill:#ffa500;stroke:#ffa500;\" x=\"26.836364\" xlink:href=\"#m600d9243c8\" y=\"42.236933\"/>\n     <use style=\"fill:#ffa500;stroke:#ffa500;\" x=\"312.043586\" xlink:href=\"#m600d9243c8\" y=\"144.977725\"/>\n     <use style=\"fill:#ffa500;stroke:#ffa500;\" x=\"419.183103\" xlink:href=\"#m600d9243c8\" y=\"282.109091\"/>\n    </g>\n   </g>\n   <g id=\"text_1\">\n    <g clip-path=\"url(#p8fa08a4fe0)\">\n     <!-- A -->\n     <g transform=\"translate(415.459261 23.602159)scale(0.12 -0.12)\">\n      <defs>\n       <path d=\"M 34.1875 63.1875 \nL 20.796875 26.90625 \nL 47.609375 26.90625 \nz\nM 28.609375 72.90625 \nL 39.796875 72.90625 \nL 67.578125 0 \nL 57.328125 0 \nL 50.6875 18.703125 \nL 17.828125 18.703125 \nL 11.1875 0 \nL 0.78125 0 \nz\n\" id=\"DejaVuSans-65\"/>\n      </defs>\n      <use xlink:href=\"#DejaVuSans-65\"/>\n     </g>\n    </g>\n   </g>\n   <g id=\"text_2\">\n    <g clip-path=\"url(#p8fa08a4fe0)\">\n     <!-- B -->\n     <g transform=\"translate(22.719801 45.548183)scale(0.12 -0.12)\">\n      <defs>\n       <path d=\"M 19.671875 34.8125 \nL 19.671875 8.109375 \nL 35.5 8.109375 \nQ 43.453125 8.109375 47.28125 11.40625 \nQ 51.125 14.703125 51.125 21.484375 \nQ 51.125 28.328125 47.28125 31.5625 \nQ 43.453125 34.8125 35.5 34.8125 \nz\nM 19.671875 64.796875 \nL 19.671875 42.828125 \nL 34.28125 42.828125 \nQ 41.5 42.828125 45.03125 45.53125 \nQ 48.578125 48.25 48.578125 53.8125 \nQ 48.578125 59.328125 45.03125 62.0625 \nQ 41.5 64.796875 34.28125 64.796875 \nz\nM 9.8125 72.90625 \nL 35.015625 72.90625 \nQ 46.296875 72.90625 52.390625 68.21875 \nQ 58.5 63.53125 58.5 54.890625 \nQ 58.5 48.1875 55.375 44.234375 \nQ 52.25 40.28125 46.1875 39.3125 \nQ 53.46875 37.75 57.5 32.78125 \nQ 61.53125 27.828125 61.53125 20.40625 \nQ 61.53125 10.640625 54.890625 5.3125 \nQ 48.25 0 35.984375 0 \nL 9.8125 0 \nz\n\" id=\"DejaVuSans-66\"/>\n      </defs>\n      <use xlink:href=\"#DejaVuSans-66\"/>\n     </g>\n    </g>\n   </g>\n   <g id=\"text_3\">\n    <g clip-path=\"url(#p8fa08a4fe0)\">\n     <!-- C -->\n     <g transform=\"translate(307.853899 148.288975)scale(0.12 -0.12)\">\n      <defs>\n       <path d=\"M 64.40625 67.28125 \nL 64.40625 56.890625 \nQ 59.421875 61.53125 53.78125 63.8125 \nQ 48.140625 66.109375 41.796875 66.109375 \nQ 29.296875 66.109375 22.65625 58.46875 \nQ 16.015625 50.828125 16.015625 36.375 \nQ 16.015625 21.96875 22.65625 14.328125 \nQ 29.296875 6.6875 41.796875 6.6875 \nQ 48.140625 6.6875 53.78125 8.984375 \nQ 59.421875 11.28125 64.40625 15.921875 \nL 64.40625 5.609375 \nQ 59.234375 2.09375 53.4375 0.328125 \nQ 47.65625 -1.421875 41.21875 -1.421875 \nQ 24.65625 -1.421875 15.125 8.703125 \nQ 5.609375 18.84375 5.609375 36.375 \nQ 5.609375 53.953125 15.125 64.078125 \nQ 24.65625 74.21875 41.21875 74.21875 \nQ 47.75 74.21875 53.53125 72.484375 \nQ 59.328125 70.75 64.40625 67.28125 \nz\n\" id=\"DejaVuSans-67\"/>\n      </defs>\n      <use xlink:href=\"#DejaVuSans-67\"/>\n     </g>\n    </g>\n   </g>\n   <g id=\"text_4\">\n    <g clip-path=\"url(#p8fa08a4fe0)\">\n     <!-- D -->\n     <g transform=\"translate(414.563103 285.420341)scale(0.12 -0.12)\">\n      <defs>\n       <path d=\"M 19.671875 64.796875 \nL 19.671875 8.109375 \nL 31.59375 8.109375 \nQ 46.6875 8.109375 53.6875 14.9375 \nQ 60.6875 21.78125 60.6875 36.53125 \nQ 60.6875 51.171875 53.6875 57.984375 \nQ 46.6875 64.796875 31.59375 64.796875 \nz\nM 9.8125 72.90625 \nL 30.078125 72.90625 \nQ 51.265625 72.90625 61.171875 64.09375 \nQ 71.09375 55.28125 71.09375 36.53125 \nQ 71.09375 17.671875 61.125 8.828125 \nQ 51.171875 0 30.078125 0 \nL 9.8125 0 \nz\n\" id=\"DejaVuSans-68\"/>\n      </defs>\n      <use xlink:href=\"#DejaVuSans-68\"/>\n     </g>\n    </g>\n   </g>\n  </g>\n </g>\n <defs>\n  <clipPath id=\"p8fa08a4fe0\">\n   <rect height=\"288\" width=\"432\" x=\"7.2\" y=\"7.2\"/>\n  </clipPath>\n </defs>\n</svg>\n"
     },
     "metadata": {}
    }
   ],
   "metadata": {
    "collapsed": false
   }
  },
  {
   "cell_type": "markdown",
   "source": [
    "Let's think about the global network properties of this graph. Do you expect the density (fraction of all possible edges that exist) and diameter (longest shortest path between any pair of nodes) of this graph to be high/low?\n",
    "\n",
    "#### <span style=\"color:orange;\"> Ex 4.3: Add a markdown cell below this one, and tell us your estimates for the diameter and density. These can be intuitive guesses!"
   ],
   "metadata": {
    "collapsed": false
   }
  },
  {
   "cell_type": "markdown",
   "source": [
    "Density = 4/6\n",
    "Diameter = 2"
   ],
   "metadata": {}
  },
  {
   "cell_type": "markdown",
   "source": [
    "#### <span style=\"color:orange;\"> Ex 4.4: Now let's compute the diameter and density of our network using NetworkX:"
   ],
   "metadata": {
    "collapsed": false
   }
  },
  {
   "cell_type": "code",
   "execution_count": 13,
   "source": [
    "# Use NetworkX to compute the density and diameter of the network\n",
    "myDensity = networkx.density(myGraph)\n",
    "myDiameter = networkx.diameter(myGraph)\n",
    "\n",
    "# Display the density and diameter of the graph\n",
    "print(\"Graph density: \", myDensity)\n",
    "print(\"Graph diameter: \", myDiameter)"
   ],
   "outputs": [
    {
     "output_type": "stream",
     "name": "stdout",
     "text": [
      "Graph density:  0.6666666666666666\n",
      "Graph diameter:  2\n"
     ]
    }
   ],
   "metadata": {
    "collapsed": false
   }
  },
  {
   "cell_type": "markdown",
   "source": [
    "#### <span style=\"color:orange;\"> Ex 4.5: Now add cells below to create alternate networks that have:\n",
    "\n",
    "* lower density and larger diameter\n",
    "* higher density and smaller diameter"
   ],
   "metadata": {
    "collapsed": false
   }
  },
  {
   "cell_type": "code",
   "execution_count": 22,
   "source": [
    "# create an empty graph\n",
    "lwr_dens_hgh_diam_graph = networkx.Graph()\n",
    "\n",
    "# add three edges\n",
    "lwr_dens_hgh_diam_graph.add_edge('A','B')\n",
    "lwr_dens_hgh_diam_graph.add_edge('B','C')\n",
    "lwr_dens_hgh_diam_graph.add_edge('C','D')\n",
    "\n",
    "# let's double check that it's as big as we'd expect\n",
    "myNodeCount = lwr_dens_hgh_diam_graph.number_of_nodes()\n",
    "myEdgeCount = lwr_dens_hgh_diam_graph.number_of_edges()\n",
    "print(\"Graph node count: \", myNodeCount)\n",
    "print(\"Graph edge count: \", myEdgeCount)\n",
    "\n",
    "# draw the graph\n",
    "networkx.draw(lwr_dens_hgh_diam_graph, with_labels=True, node_color='orange')\n",
    "\n",
    "# Use NetworkX to compute the density and diameter of the network\n",
    "lwr_dens_hgh_diam_graph_Density = networkx.density(lwr_dens_hgh_diam_graph)\n",
    "lwr_dens_hgh_diam_graph_Diameter = networkx.diameter(lwr_dens_hgh_diam_graph)\n",
    "\n",
    "# Display the density and diameter of the graph\n",
    "print(\"Graph density: \", lwr_dens_hgh_diam_graph_Density)\n",
    "print(\"Graph diameter: \", lwr_dens_hgh_diam_graph_Diameter)"
   ],
   "outputs": [
    {
     "output_type": "stream",
     "name": "stdout",
     "text": [
      "Graph node count:  4\n",
      "Graph edge count:  3\n",
      "Graph density:  0.5\n",
      "Graph diameter:  3\n"
     ]
    },
    {
     "output_type": "display_data",
     "data": {
      "text/plain": [
       "<Figure size 432x288 with 1 Axes>"
      ],
      "image/png": "[encoded data removed]",
      "image/svg+xml": "<?xml version=\"1.0\" encoding=\"utf-8\" standalone=\"no\"?>\n<!DOCTYPE svg PUBLIC \"-//W3C//DTD SVG 1.1//EN\"\n  \"http://www.w3.org/Graphics/SVG/1.1/DTD/svg11.dtd\">\n<!-- Created with matplotlib (https://matplotlib.org/) -->\n<svg height=\"302.4pt\" version=\"1.1\" viewBox=\"0 0 446.4 302.4\" width=\"446.4pt\" xmlns=\"http://www.w3.org/2000/svg\" xmlns:xlink=\"http://www.w3.org/1999/xlink\">\n <metadata>\n  <rdf:RDF xmlns:cc=\"http://creativecommons.org/ns#\" xmlns:dc=\"http://purl.org/dc/elements/1.1/\" xmlns:rdf=\"http://www.w3.org/1999/02/22-rdf-syntax-ns#\">\n   <cc:Work>\n    <dc:type rdf:resource=\"http://purl.org/dc/dcmitype/StillImage\"/>\n    <dc:date>2021-07-15T12:42:38.628893</dc:date>\n    <dc:format>image/svg+xml</dc:format>\n    <dc:creator>\n     <cc:Agent>\n      <dc:title>Matplotlib v3.3.2, https://matplotlib.org/</dc:title>\n     </cc:Agent>\n    </dc:creator>\n   </cc:Work>\n  </rdf:RDF>\n </metadata>\n <defs>\n  <style type=\"text/css\">*{stroke-linecap:butt;stroke-linejoin:round;}</style>\n </defs>\n <g id=\"figure_1\">\n  <g id=\"patch_1\">\n   <path d=\"M 0 302.4 \nL 446.4 302.4 \nL 446.4 0 \nL 0 0 \nz\n\" style=\"fill:#ffffff;\"/>\n  </g>\n  <g id=\"axes_1\">\n   <g id=\"LineCollection_1\">\n    <path clip-path=\"url(#p289a41793b)\" d=\"M 26.836364 282.109091 \nL 153.887251 197.484511 \n\" style=\"fill:none;stroke:#000000;\"/>\n    <path clip-path=\"url(#p289a41793b)\" d=\"M 153.887251 197.484511 \nL 292.720376 104.937585 \n\" style=\"fill:none;stroke:#000000;\"/>\n    <path clip-path=\"url(#p289a41793b)\" d=\"M 292.720376 104.937585 \nL 419.563636 20.290909 \n\" style=\"fill:none;stroke:#000000;\"/>\n   </g>\n   <g id=\"PathCollection_1\">\n    <defs>\n     <path d=\"M 0 8.660254 \nC 2.296726 8.660254 4.499694 7.747755 6.123724 6.123724 \nC 7.747755 4.499694 8.660254 2.296726 8.660254 0 \nC 8.660254 -2.296726 7.747755 -4.499694 6.123724 -6.123724 \nC 4.499694 -7.747755 2.296726 -8.660254 0 -8.660254 \nC -2.296726 -8.660254 -4.499694 -7.747755 -6.123724 -6.123724 \nC -7.747755 -4.499694 -8.660254 -2.296726 -8.660254 0 \nC -8.660254 2.296726 -7.747755 4.499694 -6.123724 6.123724 \nC -4.499694 7.747755 -2.296726 8.660254 0 8.660254 \nz\n\" id=\"m873e319339\" style=\"stroke:#ffa500;\"/>\n    </defs>\n    <g clip-path=\"url(#p289a41793b)\">\n     <use style=\"fill:#ffa500;stroke:#ffa500;\" x=\"26.836364\" xlink:href=\"#m873e319339\" y=\"282.109091\"/>\n     <use style=\"fill:#ffa500;stroke:#ffa500;\" x=\"153.887251\" xlink:href=\"#m873e319339\" y=\"197.484511\"/>\n     <use style=\"fill:#ffa500;stroke:#ffa500;\" x=\"292.720376\" xlink:href=\"#m873e319339\" y=\"104.937585\"/>\n     <use style=\"fill:#ffa500;stroke:#ffa500;\" x=\"419.563636\" xlink:href=\"#m873e319339\" y=\"20.290909\"/>\n    </g>\n   </g>\n   <g id=\"text_1\">\n    <g clip-path=\"url(#p289a41793b)\">\n     <!-- A -->\n     <g transform=\"translate(22.731989 285.420341)scale(0.12 -0.12)\">\n      <defs>\n       <path d=\"M 34.1875 63.1875 \nL 20.796875 26.90625 \nL 47.609375 26.90625 \nz\nM 28.609375 72.90625 \nL 39.796875 72.90625 \nL 67.578125 0 \nL 57.328125 0 \nL 50.6875 18.703125 \nL 17.828125 18.703125 \nL 11.1875 0 \nL 0.78125 0 \nz\n\" id=\"DejaVuSans-65\"/>\n      </defs>\n      <use xlink:href=\"#DejaVuSans-65\"/>\n     </g>\n    </g>\n   </g>\n   <g id=\"text_2\">\n    <g clip-path=\"url(#p289a41793b)\">\n     <!-- B -->\n     <g transform=\"translate(149.770689 200.795761)scale(0.12 -0.12)\">\n      <defs>\n       <path d=\"M 19.671875 34.8125 \nL 19.671875 8.109375 \nL 35.5 8.109375 \nQ 43.453125 8.109375 47.28125 11.40625 \nQ 51.125 14.703125 51.125 21.484375 \nQ 51.125 28.328125 47.28125 31.5625 \nQ 43.453125 34.8125 35.5 34.8125 \nz\nM 19.671875 64.796875 \nL 19.671875 42.828125 \nL 34.28125 42.828125 \nQ 41.5 42.828125 45.03125 45.53125 \nQ 48.578125 48.25 48.578125 53.8125 \nQ 48.578125 59.328125 45.03125 62.0625 \nQ 41.5 64.796875 34.28125 64.796875 \nz\nM 9.8125 72.90625 \nL 35.015625 72.90625 \nQ 46.296875 72.90625 52.390625 68.21875 \nQ 58.5 63.53125 58.5 54.890625 \nQ 58.5 48.1875 55.375 44.234375 \nQ 52.25 40.28125 46.1875 39.3125 \nQ 53.46875 37.75 57.5 32.78125 \nQ 61.53125 27.828125 61.53125 20.40625 \nQ 61.53125 10.640625 54.890625 5.3125 \nQ 48.25 0 35.984375 0 \nL 9.8125 0 \nz\n\" id=\"DejaVuSans-66\"/>\n      </defs>\n      <use xlink:href=\"#DejaVuSans-66\"/>\n     </g>\n    </g>\n   </g>\n   <g id=\"text_3\">\n    <g clip-path=\"url(#p289a41793b)\">\n     <!-- C -->\n     <g transform=\"translate(288.530689 108.248835)scale(0.12 -0.12)\">\n      <defs>\n       <path d=\"M 64.40625 67.28125 \nL 64.40625 56.890625 \nQ 59.421875 61.53125 53.78125 63.8125 \nQ 48.140625 66.109375 41.796875 66.109375 \nQ 29.296875 66.109375 22.65625 58.46875 \nQ 16.015625 50.828125 16.015625 36.375 \nQ 16.015625 21.96875 22.65625 14.328125 \nQ 29.296875 6.6875 41.796875 6.6875 \nQ 48.140625 6.6875 53.78125 8.984375 \nQ 59.421875 11.28125 64.40625 15.921875 \nL 64.40625 5.609375 \nQ 59.234375 2.09375 53.4375 0.328125 \nQ 47.65625 -1.421875 41.21875 -1.421875 \nQ 24.65625 -1.421875 15.125 8.703125 \nQ 5.609375 18.84375 5.609375 36.375 \nQ 5.609375 53.953125 15.125 64.078125 \nQ 24.65625 74.21875 41.21875 74.21875 \nQ 47.75 74.21875 53.53125 72.484375 \nQ 59.328125 70.75 64.40625 67.28125 \nz\n\" id=\"DejaVuSans-67\"/>\n      </defs>\n      <use xlink:href=\"#DejaVuSans-67\"/>\n     </g>\n    </g>\n   </g>\n   <g id=\"text_4\">\n    <g clip-path=\"url(#p289a41793b)\">\n     <!-- D -->\n     <g transform=\"translate(414.943636 23.602159)scale(0.12 -0.12)\">\n      <defs>\n       <path d=\"M 19.671875 64.796875 \nL 19.671875 8.109375 \nL 31.59375 8.109375 \nQ 46.6875 8.109375 53.6875 14.9375 \nQ 60.6875 21.78125 60.6875 36.53125 \nQ 60.6875 51.171875 53.6875 57.984375 \nQ 46.6875 64.796875 31.59375 64.796875 \nz\nM 9.8125 72.90625 \nL 30.078125 72.90625 \nQ 51.265625 72.90625 61.171875 64.09375 \nQ 71.09375 55.28125 71.09375 36.53125 \nQ 71.09375 17.671875 61.125 8.828125 \nQ 51.171875 0 30.078125 0 \nL 9.8125 0 \nz\n\" id=\"DejaVuSans-68\"/>\n      </defs>\n      <use xlink:href=\"#DejaVuSans-68\"/>\n     </g>\n    </g>\n   </g>\n  </g>\n </g>\n <defs>\n  <clipPath id=\"p289a41793b\">\n   <rect height=\"288\" width=\"432\" x=\"7.2\" y=\"7.2\"/>\n  </clipPath>\n </defs>\n</svg>\n"
     },
     "metadata": {}
    }
   ],
   "metadata": {}
  },
  {
   "cell_type": "code",
   "execution_count": 34,
   "source": [
    "# create an empty graph\n",
    "hgh_dens_lwr_diam_graph = networkx.Graph()\n",
    "\n",
    "# add three edges\n",
    "hgh_dens_lwr_diam_graph.add_edge('A','B')\n",
    "\n",
    "# let's double check that it's as big as we'd expect\n",
    "myNodeCount = hgh_dens_lwr_diam_graph.number_of_nodes()\n",
    "myEdgeCount = hgh_dens_lwr_diam_graph.number_of_edges()\n",
    "print(\"Graph node count: \", myNodeCount)\n",
    "print(\"Graph edge count: \", myEdgeCount)\n",
    "\n",
    "# draw the graph\n",
    "networkx.draw(hgh_dens_lwr_diam_graph, with_labels=True, node_color='orange')\n",
    "\n",
    "# Use NetworkX to compute the density and diameter of the network\n",
    "hgh_dens_lwr_diam_graph_Density = networkx.density(hgh_dens_lwr_diam_graph)\n",
    "hgh_dens_lwr_diam_graph_Diameter = networkx.diameter(hgh_dens_lwr_diam_graph)\n",
    "\n",
    "# Display the density and diameter of the graph\n",
    "print(\"Graph density: \", hgh_dens_lwr_diam_graph_Density)\n",
    "print(\"Graph diameter: \", hgh_dens_lwr_diam_graph_Diameter)"
   ],
   "outputs": [
    {
     "output_type": "stream",
     "name": "stdout",
     "text": [
      "Graph node count:  2\n",
      "Graph edge count:  1\n",
      "Graph density:  1.0\n",
      "Graph diameter:  1\n"
     ]
    },
    {
     "output_type": "display_data",
     "data": {
      "text/plain": [
       "<Figure size 432x288 with 1 Axes>"
      ],
      "image/png": "[encoded data removed]",
      "image/svg+xml": "<?xml version=\"1.0\" encoding=\"utf-8\" standalone=\"no\"?>\n<!DOCTYPE svg PUBLIC \"-//W3C//DTD SVG 1.1//EN\"\n  \"http://www.w3.org/Graphics/SVG/1.1/DTD/svg11.dtd\">\n<!-- Created with matplotlib (https://matplotlib.org/) -->\n<svg height=\"302.4pt\" version=\"1.1\" viewBox=\"0 0 446.4 302.4\" width=\"446.4pt\" xmlns=\"http://www.w3.org/2000/svg\" xmlns:xlink=\"http://www.w3.org/1999/xlink\">\n <metadata>\n  <rdf:RDF xmlns:cc=\"http://creativecommons.org/ns#\" xmlns:dc=\"http://purl.org/dc/elements/1.1/\" xmlns:rdf=\"http://www.w3.org/1999/02/22-rdf-syntax-ns#\">\n   <cc:Work>\n    <dc:type rdf:resource=\"http://purl.org/dc/dcmitype/StillImage\"/>\n    <dc:date>2021-07-15T12:49:53.654647</dc:date>\n    <dc:format>image/svg+xml</dc:format>\n    <dc:creator>\n     <cc:Agent>\n      <dc:title>Matplotlib v3.3.2, https://matplotlib.org/</dc:title>\n     </cc:Agent>\n    </dc:creator>\n   </cc:Work>\n  </rdf:RDF>\n </metadata>\n <defs>\n  <style type=\"text/css\">*{stroke-linecap:butt;stroke-linejoin:round;}</style>\n </defs>\n <g id=\"figure_1\">\n  <g id=\"patch_1\">\n   <path d=\"M 0 302.4 \nL 446.4 302.4 \nL 446.4 0 \nL 0 0 \nz\n\" style=\"fill:#ffffff;\"/>\n  </g>\n  <g id=\"axes_1\">\n   <g id=\"LineCollection_1\">\n    <path clip-path=\"url(#pedf5224cec)\" d=\"M 26.836364 20.290909 \nL 419.563636 282.109091 \n\" style=\"fill:none;stroke:#000000;\"/>\n   </g>\n   <g id=\"PathCollection_1\">\n    <defs>\n     <path d=\"M 0 8.660254 \nC 2.296726 8.660254 4.499694 7.747755 6.123724 6.123724 \nC 7.747755 4.499694 8.660254 2.296726 8.660254 0 \nC 8.660254 -2.296726 7.747755 -4.499694 6.123724 -6.123724 \nC 4.499694 -7.747755 2.296726 -8.660254 0 -8.660254 \nC -2.296726 -8.660254 -4.499694 -7.747755 -6.123724 -6.123724 \nC -7.747755 -4.499694 -8.660254 -2.296726 -8.660254 0 \nC -8.660254 2.296726 -7.747755 4.499694 -6.123724 6.123724 \nC -4.499694 7.747755 -2.296726 8.660254 0 8.660254 \nz\n\" id=\"m2f36f94029\" style=\"stroke:#ffa500;\"/>\n    </defs>\n    <g clip-path=\"url(#pedf5224cec)\">\n     <use style=\"fill:#ffa500;stroke:#ffa500;\" x=\"26.836364\" xlink:href=\"#m2f36f94029\" y=\"20.290909\"/>\n     <use style=\"fill:#ffa500;stroke:#ffa500;\" x=\"419.563636\" xlink:href=\"#m2f36f94029\" y=\"282.109091\"/>\n    </g>\n   </g>\n   <g id=\"text_1\">\n    <g clip-path=\"url(#pedf5224cec)\">\n     <!-- A -->\n     <g transform=\"translate(22.731989 23.602159)scale(0.12 -0.12)\">\n      <defs>\n       <path d=\"M 34.1875 63.1875 \nL 20.796875 26.90625 \nL 47.609375 26.90625 \nz\nM 28.609375 72.90625 \nL 39.796875 72.90625 \nL 67.578125 0 \nL 57.328125 0 \nL 50.6875 18.703125 \nL 17.828125 18.703125 \nL 11.1875 0 \nL 0.78125 0 \nz\n\" id=\"DejaVuSans-65\"/>\n      </defs>\n      <use xlink:href=\"#DejaVuSans-65\"/>\n     </g>\n    </g>\n   </g>\n   <g id=\"text_2\">\n    <g clip-path=\"url(#pedf5224cec)\">\n     <!-- B -->\n     <g transform=\"translate(415.447074 285.420341)scale(0.12 -0.12)\">\n      <defs>\n       <path d=\"M 19.671875 34.8125 \nL 19.671875 8.109375 \nL 35.5 8.109375 \nQ 43.453125 8.109375 47.28125 11.40625 \nQ 51.125 14.703125 51.125 21.484375 \nQ 51.125 28.328125 47.28125 31.5625 \nQ 43.453125 34.8125 35.5 34.8125 \nz\nM 19.671875 64.796875 \nL 19.671875 42.828125 \nL 34.28125 42.828125 \nQ 41.5 42.828125 45.03125 45.53125 \nQ 48.578125 48.25 48.578125 53.8125 \nQ 48.578125 59.328125 45.03125 62.0625 \nQ 41.5 64.796875 34.28125 64.796875 \nz\nM 9.8125 72.90625 \nL 35.015625 72.90625 \nQ 46.296875 72.90625 52.390625 68.21875 \nQ 58.5 63.53125 58.5 54.890625 \nQ 58.5 48.1875 55.375 44.234375 \nQ 52.25 40.28125 46.1875 39.3125 \nQ 53.46875 37.75 57.5 32.78125 \nQ 61.53125 27.828125 61.53125 20.40625 \nQ 61.53125 10.640625 54.890625 5.3125 \nQ 48.25 0 35.984375 0 \nL 9.8125 0 \nz\n\" id=\"DejaVuSans-66\"/>\n      </defs>\n      <use xlink:href=\"#DejaVuSans-66\"/>\n     </g>\n    </g>\n   </g>\n  </g>\n </g>\n <defs>\n  <clipPath id=\"pedf5224cec\">\n   <rect height=\"288\" width=\"432\" x=\"7.2\" y=\"7.2\"/>\n  </clipPath>\n </defs>\n</svg>\n"
     },
     "metadata": {}
    }
   ],
   "metadata": {}
  },
  {
   "cell_type": "markdown",
   "source": [
    "#### <span style=\"color:orange;\"> ***Ex 4.6: Bonus question, if you have time:***\n",
    "\n",
    "Do you think it's possible to create networks that have:\n",
    "* lower density and smaller diameter\n",
    "* higher density and larger diameter\n",
    "\n",
    "If not, why not?  And if so, how would you do it?"
   ],
   "metadata": {
    "collapsed": false
   }
  },
  {
   "cell_type": "markdown",
   "source": [
    "<br>\n",
    "\n",
    "# 5. Introduction to lists/dictionaries (and local network properties)"
   ],
   "metadata": {
    "collapsed": false
   }
  },
  {
   "cell_type": "markdown",
   "source": [
    "The variables we've seen so far are *scalar variables*--they can only store one piece of information at a time, and can get cumbersome when we are working with lots of information. Fortunately, Python has a number of different types of container variables to solve this problem.  The most common of these are lists and dictionaries.\n",
    "\n",
    "A **list** is an ordered sequence of items (numbers, strings, graphs, other variables ... you get the idea!). Python's list is similar to what is called an array or vector in other languages.  They are denoted using square brackets, and the items are indexed 0, 1, 2... (notice that the first item in a list is the 0th item!).\n",
    "\n",
    "A **dictionary** is an unordered collection of items (numbers, strings, etc.). Python's dictionary is similar to what is called an associative array or a map in other languages.  They are denoted using curly braces, and the items (called values) are indexed through arbitrary, unique keys (that you define).\n",
    "\n",
    "#### <span style=\"color:orange;\"> Ex 5.1: Let's create a list and dictionary."
   ],
   "metadata": {
    "collapsed": false
   }
  },
  {
   "cell_type": "code",
   "execution_count": 35,
   "source": [
    "# Create a list with the numbers 5-8\n",
    "mylist = [5, 6, 7, 8] # you can also generate this list using range(5,9)\n",
    "\n",
    "# Create a dictionary where the keys are countries, and the values are capital cities\n",
    "mydict = {'France' : 'Paris',\n",
    "          'China'  : 'Beijing',\n",
    "          'Brazil' : 'Brazilia'}\n",
    "\n",
    "# Output my list and dictionary\n",
    "print(\"My list of numbers is: \", mylist)\n",
    "print(\"The capital cities are: \", mydict)"
   ],
   "outputs": [
    {
     "output_type": "stream",
     "name": "stdout",
     "text": [
      "My list of numbers is:  [5, 6, 7, 8]\n",
      "The capital cities are:  {'France': 'Paris', 'China': 'Beijing', 'Brazil': 'Brazilia'}\n"
     ]
    }
   ],
   "metadata": {
    "collapsed": false
   }
  },
  {
   "cell_type": "markdown",
   "source": [
    "#### <span style=\"color:orange;\"> Ex 5.2: You can access individual items in a list or dictionary using square brackets. Try it below."
   ],
   "metadata": {
    "collapsed": false
   }
  },
  {
   "cell_type": "code",
   "execution_count": 36,
   "source": [
    "print(\"The first number in my list is: \", mylist[0])\n",
    "print(\"The capital city of France is: \", mydict['France'])"
   ],
   "outputs": [
    {
     "output_type": "stream",
     "name": "stdout",
     "text": [
      "The first number in my list is:  5\n",
      "The capital city of France is:  Paris\n"
     ]
    }
   ],
   "metadata": {
    "collapsed": false
   }
  },
  {
   "cell_type": "markdown",
   "source": [
    "#### <span style=\"color:orange;\"> Ex 5.3: You can also get access to all the keys or all the values in a dictionary."
   ],
   "metadata": {
    "collapsed": false
   }
  },
  {
   "cell_type": "code",
   "execution_count": 37,
   "source": [
    "print(\"All the countries in the dictionary: \", list(mydict.keys()))\n",
    "print(\"All the capital cities in the dictionary: \", list(mydict.values()))"
   ],
   "outputs": [
    {
     "output_type": "stream",
     "name": "stdout",
     "text": [
      "All the countries in the dictionary:  ['France', 'China', 'Brazil']\n",
      "All the capital cities in the dictionary:  ['Paris', 'Beijing', 'Brazilia']\n"
     ]
    }
   ],
   "metadata": {
    "collapsed": false
   }
  },
  {
   "cell_type": "markdown",
   "source": [
    "#### <span style=\"color:orange;\"> Ex 5.4: Now, we are ready to calculate local network properties. Let's start by computing the degree of all nodes in the graph we created above."
   ],
   "metadata": {
    "collapsed": false
   }
  },
  {
   "cell_type": "code",
   "execution_count": 38,
   "source": [
    "# Get the degree of each node in the network (as a dictionary)\n",
    "myDegreeDict = dict(myGraph.degree())\n",
    "\n",
    "# Get the list of degrees only\n",
    "myDegreeList = list(myDegreeDict.values())\n",
    "\n",
    "# Output the results\n",
    "print(\"Degree list of all nodes: \", myDegreeList)\n",
    "\n",
    "print(\"Degree dict of all nodes: \", myDegreeDict)\n"
   ],
   "outputs": [
    {
     "output_type": "stream",
     "name": "stdout",
     "text": [
      "Degree list of all nodes:  [2, 2, 3, 1]\n",
      "Degree dict of all nodes:  {'A': 2, 'B': 2, 'C': 3, 'D': 1}\n"
     ]
    }
   ],
   "metadata": {
    "collapsed": false
   }
  },
  {
   "cell_type": "markdown",
   "source": [
    "#### <span style=\"color:orange;\"> Ex 5.5: Now, we're going to think about the clustering coefficient and betweenness of each node in the graph. First, put down an intuitive guess of which nodes you expect to have high or low clustering and betweenness?\n"
   ],
   "metadata": {
    "collapsed": false
   }
  },
  {
   "cell_type": "markdown",
   "source": [
    "Expect node C to have high clustering, D low clustering"
   ],
   "metadata": {
    "collapsed": false
   }
  },
  {
   "cell_type": "markdown",
   "source": [
    "#### <span style=\"color:orange;\"> Ex 5.6: Now, let's calculate them and verify. Calculate the clustering and betweenness of all nodes in the graph. (The NetworkX functions are called ``networkx.clustering(``*graph_name_here*, *optional_node_name_here*``)`` and ``networkx.betweenness_centrality(``*graph_name_here*, *optional_node_name_here*``)``)"
   ],
   "metadata": {
    "collapsed": false
   }
  },
  {
   "cell_type": "code",
   "execution_count": 53,
   "source": [
    "clustering = networkx.clustering(myGraph)\n",
    "betweenness = networkx.betweenness_centrality(myGraph)\n",
    "\n",
    "print(\"Clustering: \", clustering)\n",
    "print(\"Betweenness: \", betweenness)"
   ],
   "outputs": [
    {
     "output_type": "stream",
     "name": "stdout",
     "text": [
      "Clustering:  {'A': 1.0, 'B': 1.0, 'C': 0.3333333333333333, 'D': 0}\n",
      "Betweenness:  {'A': 0.0, 'B': 0.0, 'C': 0.6666666666666666, 'D': 0.0}\n"
     ]
    }
   ],
   "metadata": {
    "collapsed": false
   }
  },
  {
   "cell_type": "markdown",
   "source": [
    "#### <span style=\"color:orange;\"> Ex 5.7: The variables you created to store the nodes' degrees, clustering coefficients, and betweeness values are all list variables. Each of these lists have a length of 4 since there are 4 nodes in the graph (unless you modified your network!). If we did not know the size of the list, we could use the len() function to determine it."
   ],
   "metadata": {
    "collapsed": false
   }
  },
  {
   "cell_type": "code",
   "execution_count": 54,
   "source": [
    "degreeListLength = len(myDegreeList)\n",
    "\n",
    "print(\"The length of the degree list: \", degreeListLength)"
   ],
   "outputs": [
    {
     "output_type": "stream",
     "name": "stdout",
     "text": [
      "The length of the degree list:  4\n"
     ]
    }
   ],
   "metadata": {
    "collapsed": false
   }
  },
  {
   "cell_type": "markdown",
   "source": [
    "#### <span style=\"color:orange;\"> Ex 5.8: Write code to determine the length of the betweeness list and the clustering coefficient list."
   ],
   "metadata": {
    "collapsed": false
   }
  },
  {
   "cell_type": "code",
   "execution_count": 55,
   "source": [
    "clustering_list_length = len(clustering)\n",
    "betweenness_list_length = len(betweenness)\n",
    "\n",
    "print(\"Clustering list length: \", clustering_list_length)\n",
    "print(\"Betweenness list length: \", betweenness_list_length)"
   ],
   "outputs": [
    {
     "output_type": "stream",
     "name": "stdout",
     "text": [
      "Clustering list length:  4\n",
      "Betweenness list length:  4\n"
     ]
    }
   ],
   "metadata": {
    "collapsed": false
   }
  },
  {
   "cell_type": "markdown",
   "source": [
    "#### <span style=\"color:orange;\"> Ex 5.9: Write code to determine the degree, clustering coefficient and betweenness of node B."
   ],
   "metadata": {
    "collapsed": false
   }
  },
  {
   "cell_type": "code",
   "execution_count": 57,
   "source": [
    "B_degree = myDegreeDict[\"B\"]\n",
    "B_clustering = clustering[\"B\"]\n",
    "B_betweenness = betweenness[\"B\"]\n",
    "\n",
    "print(\"B degree: \", B_degree)\n",
    "print(\"B clustering: \", B_clustering)\n",
    "print(\"B betweenness: \", B_betweenness)"
   ],
   "outputs": [
    {
     "output_type": "stream",
     "name": "stdout",
     "text": [
      "B degree:  2\n",
      "B clustering:  1.0\n",
      "B betweenness:  0.0\n"
     ]
    }
   ],
   "metadata": {
    "collapsed": false
   }
  },
  {
   "cell_type": "markdown",
   "source": [
    "#### <span style=\"color:orange;\"> Ex 5.10: Explain the relevance of the degree, clustering coefficient and betweenness of a node."
   ],
   "metadata": {
    "collapsed": false
   }
  },
  {
   "cell_type": "markdown",
   "source": [
    "Degree refers to the number of edges of a node\n",
    "Clustering coefficient refers to the number of triangles connected to a node\n",
    "Betweenness refers to a "
   ],
   "metadata": {
    "collapsed": false
   }
  },
  {
   "cell_type": "markdown",
   "source": [
    "#### <span style=\"color:orange;\"> Ex 5.11: Our current graph is an unweighted graph. If we think about the many applications of networks, weights can be used for many things: travel time between two cities, probability of disease transmission between two people, or electrical resistance between two devices.\n",
    "\n",
    "We can verify that our graph is unweighted by examining the data associated with our edges."
   ],
   "metadata": {
    "collapsed": false
   }
  },
  {
   "cell_type": "code",
   "execution_count": 58,
   "source": [
    "# See if the graph is a weighted graph\n",
    "myGraph.edges.data()"
   ],
   "outputs": [
    {
     "output_type": "execute_result",
     "data": {
      "text/plain": [
       "EdgeDataView([('A', 'B', {}), ('A', 'C', {}), ('B', 'C', {}), ('C', 'D', {})])"
      ]
     },
     "metadata": {},
     "execution_count": 58
    }
   ],
   "metadata": {
    "collapsed": false
   }
  },
  {
   "cell_type": "markdown",
   "source": [
    "Empty brackets here indicate that there are no weights.\n",
    "\n",
    "#### <span style=\"color:orange;\"> Ex 5.12: Let's add weights to the graph. We do this by adding an attribute \"weight\" to each edge in the graph."
   ],
   "metadata": {
    "collapsed": false
   }
  },
  {
   "cell_type": "code",
   "execution_count": 59,
   "source": [
    "# Add weights to the graph\n",
    "myGraph['A']['B']['weight'] = 1\n",
    "myGraph['B']['C']['weight'] = 1\n",
    "myGraph['C']['A']['weight'] = 1\n",
    "\n",
    "#Check to see if the graph is a weighted graph\n",
    "myGraph.edges.data()"
   ],
   "outputs": [
    {
     "output_type": "execute_result",
     "data": {
      "text/plain": [
       "EdgeDataView([('A', 'B', {'weight': 1}), ('A', 'C', {'weight': 1}), ('B', 'C', {'weight': 1}), ('C', 'D', {})])"
      ]
     },
     "metadata": {},
     "execution_count": 59
    }
   ],
   "metadata": {
    "collapsed": false
   }
  },
  {
   "cell_type": "markdown",
   "source": [
    "#### <span style=\"color:orange;\"> Ex 5.13: Here is another way to access all the edge weights"
   ],
   "metadata": {
    "collapsed": false
   }
  },
  {
   "cell_type": "code",
   "execution_count": 60,
   "source": [
    "# Another way to print all the edge weights\n",
    "networkx.get_edge_attributes(myGraph, 'weight')"
   ],
   "outputs": [
    {
     "output_type": "execute_result",
     "data": {
      "text/plain": [
       "{('A', 'B'): 1, ('A', 'C'): 1, ('B', 'C'): 1}"
      ]
     },
     "metadata": {},
     "execution_count": 60
    }
   ],
   "metadata": {
    "collapsed": false
   }
  },
  {
   "cell_type": "markdown",
   "source": [
    "#### <span style=\"color:orange;\"> Ex 5.14: Let's change the weight of the edge between nodes A and B to a weight of 2 (and output the result)--but before you do, make a copy of your current network so that you don't overwrite it. That way you'll be able to compare the original and modified networks. You can create a copy using ``myGraph.copy()``)"
   ],
   "metadata": {
    "collapsed": false
   }
  },
  {
   "cell_type": "code",
   "execution_count": 61,
   "source": [
    "myGraph_copy = myGraph.copy()"
   ],
   "outputs": [],
   "metadata": {
    "collapsed": false
   }
  },
  {
   "cell_type": "code",
   "execution_count": 62,
   "source": [
    "myGraph_copy[\"A\"][\"B\"][\"weight\"] = 2"
   ],
   "outputs": [],
   "metadata": {}
  },
  {
   "cell_type": "markdown",
   "source": [
    "#### <span style=\"color:orange;\"> Ex 5.15: Get a list of just the edge weights from the output above."
   ],
   "metadata": {
    "collapsed": false
   }
  },
  {
   "cell_type": "code",
   "execution_count": 63,
   "source": [
    "networkx.networkx.get_edge_attributes(myGraph_copy, \"weight\")"
   ],
   "outputs": [
    {
     "output_type": "execute_result",
     "data": {
      "text/plain": [
       "{('A', 'B'): 2, ('A', 'C'): 1, ('B', 'C'): 1}"
      ]
     },
     "metadata": {},
     "execution_count": 63
    }
   ],
   "metadata": {
    "collapsed": false
   }
  },
  {
   "cell_type": "markdown",
   "source": [
    "#### <span style=\"color:orange;\"> Ex 5.16: Now that the edges have different weights, does that change the importance of the different nodes in the network? In what way?"
   ],
   "metadata": {
    "collapsed": false
   }
  },
  {
   "cell_type": "markdown",
   "source": [
    "Yes, it means that the probability of transmission between A and B is now double\n",
    "the prior probability"
   ],
   "metadata": {
    "collapsed": false
   }
  },
  {
   "cell_type": "markdown",
   "source": [
    "<br>\n",
    "\n",
    "# 6. Conditionals\n",
    "    \n",
    "Sometimes, you only want to carry out a Python command if something is true. For this, we use **conditionals**."
   ],
   "metadata": {
    "collapsed": false
   }
  },
  {
   "cell_type": "markdown",
   "source": [
    "#### <span style=\"color:orange;\"> Ex 6.1: Python has a function that allows us determine the maximum value of a list.  Let's use that function to determine the maximum degree of any node in the network."
   ],
   "metadata": {
    "collapsed": false
   }
  },
  {
   "cell_type": "code",
   "execution_count": 64,
   "source": [
    "maxDegree = max(myDegreeList)\n",
    "print(maxDegree)"
   ],
   "outputs": [
    {
     "output_type": "stream",
     "name": "stdout",
     "text": [
      "3\n"
     ]
    }
   ],
   "metadata": {
    "collapsed": false
   }
  },
  {
   "cell_type": "markdown",
   "source": [
    "Now, if we want to make a decision about this variable, we would use a condition which is an expression that provides a true or false answer.\n",
    "\n",
    "#### <span style=\"color:orange;\"> Ex 6.2: The following code prints \"High Value\" if the maximum degree in our Network is greater than or equal to 5.0. Otherwise, it prints \"Low Value\"."
   ],
   "metadata": {
    "collapsed": false
   }
  },
  {
   "cell_type": "code",
   "execution_count": 65,
   "source": [
    "# Setup a variable to represent the decision value\n",
    "degreeDecisionValue = 5\n",
    "\n",
    "# Check to see if the max value in the network is greater than or equal to the value\n",
    "if (maxDegree >= degreeDecisionValue):\n",
    "    print(\"High Value\")\n",
    "else:\n",
    "    print(\"Low Value\")"
   ],
   "outputs": [
    {
     "output_type": "stream",
     "name": "stdout",
     "text": [
      "Low Value\n"
     ]
    }
   ],
   "metadata": {
    "collapsed": false
   }
  },
  {
   "cell_type": "markdown",
   "source": [
    "#### <span style=\"color:orange;\"> Ex 6.3: Determine whether the maximum clustering coefficient is high or low. We will assume that a high value is above 0.5. Print whether the value is high or low."
   ],
   "metadata": {
    "collapsed": false
   }
  },
  {
   "cell_type": "code",
   "execution_count": 68,
   "source": [
    "clustering_decision_value = 0.5\n",
    "max_clustering = max(clustering.values())\n",
    "\n",
    "if (max_clustering >= clustering_decision_value):\n",
    "    print(\"High value\")\n",
    "else:\n",
    "    print(\"Low value\")"
   ],
   "outputs": [
    {
     "output_type": "stream",
     "name": "stdout",
     "text": [
      "High value\n"
     ]
    }
   ],
   "metadata": {}
  },
  {
   "cell_type": "markdown",
   "source": [
    "Sometimes we need more than one condition to be true (or false) to make a decision. In order to do this, we use multiple conditions and connect the conditions with an ``and`` operator. We use the ``and`` operator because we want both conditions to be true. If instead we only require that one of the conditions be true, we can use the ``or`` operator.\n",
    "\n",
    "#### <span style=\"color:orange;\"> Ex 6.4: The following code prints the combination of high low values for degree of the first 2 nodes in the graph."
   ],
   "metadata": {
    "collapsed": false
   }
  },
  {
   "cell_type": "code",
   "execution_count": 69,
   "source": [
    "# Check to see if nodes A and B of the network have high or low values of degree.\n",
    "# Print the type of value they have\n",
    "if ((myDegreeDict['A'] >= degreeDecisionValue) and (myDegreeDict['B'] >= degreeDecisionValue)):\n",
    "    print(\"Both nodes have a high value for degree.\")\n",
    "elif ((myDegreeDict['A'] < degreeDecisionValue) and (myDegreeDict['B'] < degreeDecisionValue)):\n",
    "    print(\"Both nodes have a low value for degree.\")\n",
    "else:\n",
    "    print(\"One node has a high degree and one node has a low degree\")\n",
    "    \n",
    "# Let's validate our answer by printing both values\n",
    "print(\"Node 1 degree = \", myDegreeDict['A'])\n",
    "print(\"Node 2 degree = \", myDegreeDict['B'])"
   ],
   "outputs": [
    {
     "output_type": "stream",
     "name": "stdout",
     "text": [
      "Both nodes have a low value for degree.\n",
      "Node 1 degree =  2\n",
      "Node 2 degree =  2\n"
     ]
    }
   ],
   "metadata": {
    "collapsed": false
   }
  },
  {
   "cell_type": "markdown",
   "source": [
    "#### <span style=\"color:orange;\"> Ex 6.5: Determine the combination of degree and clustering node C has. Are they both high? Print what the combination is and also print the value for degree and clustering for node C."
   ],
   "metadata": {
    "collapsed": false
   }
  },
  {
   "cell_type": "code",
   "execution_count": 75,
   "source": [
    "C_degree = myDegreeDict[\"C\"]\n",
    "C_clustering = clustering[\"C\"]\n",
    "\n",
    "if (C_degree >= degreeDecisionValue):\n",
    "    print(\"High Degree value\")\n",
    "else:\n",
    "    print(\"Low degree value\")\n",
    "print(\"C degree: \", C_degree)\n",
    "\n",
    "if (C_clustering >= clustering_decision_value):\n",
    "    print(\"High clustering value\")\n",
    "else:\n",
    "    print(\"Low clustering value\")\n",
    "print(\"C clustering: \", C_clustering)"
   ],
   "outputs": [
    {
     "output_type": "stream",
     "name": "stdout",
     "text": [
      "Low degree value\n",
      "C degree:  3\n",
      "Low clustering value\n",
      "C clustering:  0.3333333333333333\n"
     ]
    }
   ],
   "metadata": {
    "collapsed": false
   }
  },
  {
   "cell_type": "markdown",
   "source": [
    "<br>\n",
    "\n",
    "# 7. For Loops\n",
    "\n",
    "One of the most useful aspects of computers is their ability to precisely do repetitive tasks--something humans tend to find boring and difficult. The most common way we express that a task should be repeated in Python is using the ``for`` loop.\n",
    "\n",
    "The most common use of for loops is to do the same thing to every item in a list. Python makes it easy to do this. The basic structure is simple\n",
    "\n",
    "```\n",
    "for item in list_of_items:\n",
    "    code\n",
    "    block\n",
    "```\n",
    "\n",
    "where ``for`` and ``in`` are keywords that never change, ``item`` is any variable name you want things in the list to be assigned to inside the loop, and ``code block`` is an indented list of Python commands. The first time through the loop, the first object in list_of_items is assigned to item. The second time through the loop the second object in the list is assigned to item, and so on, until the end of the list.\n",
    "\n",
    "#### <span style=\"color:orange;\"> Ex 7.1: For example, if we have a list of the noble gases and want to print them out one at a time while mentioning that they are a noble gas we would use code like this:"
   ],
   "metadata": {
    "collapsed": false
   }
  },
  {
   "cell_type": "code",
   "execution_count": 76,
   "source": [
    "nobel_gases = ['He', 'Ne', 'Ar', 'Kr', 'Xe', 'Rn']\n",
    "atomic_number = {'He':2, 'Ne':10, 'Ar':18, 'Kr':36, 'Xe':54, 'Rn':86}\n",
    "\n",
    "for gas in nobel_gases:\n",
    "    print(gas, 'is a nobel gas with atomic number', atomic_number[gas])\n",
    "    # code that continues to have the same indent is still inside the for loop\n",
    "# the first line of code (comments don't count) that is \"outdented\" is no longer in the loop"
   ],
   "outputs": [
    {
     "output_type": "stream",
     "name": "stdout",
     "text": [
      "He is a nobel gas with atomic number 2\n",
      "Ne is a nobel gas with atomic number 10\n",
      "Ar is a nobel gas with atomic number 18\n",
      "Kr is a nobel gas with atomic number 36\n",
      "Xe is a nobel gas with atomic number 54\n",
      "Rn is a nobel gas with atomic number 86\n"
     ]
    }
   ],
   "metadata": {
    "collapsed": false
   }
  },
  {
   "cell_type": "markdown",
   "source": [
    "#### <span style=\"color:orange;\"> Ex 7.2: Loop through the nodes in your network, and for each one, print out its degree and clustering coefficient. \n",
    "You can get a \"list\" of nodes using myGraph.nodes(), but NetworkX also provides a nice idiom: you can actually iterate directly over ``myGraph``. In both of these cases, we are not looping through a list per se, but other kinds of iterable containers. (You can convert them to true Python lists, e.g. ``list(myGraph)``, but in this case there is no need to do so.)"
   ],
   "metadata": {
    "collapsed": false
   }
  },
  {
   "cell_type": "code",
   "execution_count": 78,
   "source": [
    "for node in myGraph:\n",
    "    print(node, \"has degree \", myDegreeDict[node])\n",
    "    print(node, \"has clustering coefficient \", clustering[node])"
   ],
   "outputs": [
    {
     "output_type": "stream",
     "name": "stdout",
     "text": [
      "A has degree  2\n",
      "A has clustering coefficient  1.0\n",
      "B has degree  2\n",
      "B has clustering coefficient  1.0\n",
      "C has degree  3\n",
      "C has clustering coefficient  0.3333333333333333\n",
      "D has degree  1\n",
      "D has clustering coefficient  0\n"
     ]
    }
   ],
   "metadata": {
    "collapsed": false
   }
  },
  {
   "cell_type": "markdown",
   "source": [
    "#### <span style=\"color:orange;\"> Ex 7.3: Now for the same list, only print if the degree of the node is greater than 1."
   ],
   "metadata": {
    "collapsed": false
   }
  },
  {
   "cell_type": "code",
   "execution_count": 86,
   "source": [
    "for node in myGraph:\n",
    "    node_degree = myDegreeDict[node]\n",
    "    if (node_degree > 1):\n",
    "        print(node, \"has degree \", node_degree)\n",
    "        print(node, \"has clustering coefficient \", clustering[node])"
   ],
   "outputs": [
    {
     "output_type": "stream",
     "name": "stdout",
     "text": [
      "A has degree  2\n",
      "A has clustering coefficient  1.0\n",
      "B has degree  2\n",
      "B has clustering coefficient  1.0\n",
      "C has degree  3\n",
      "C has clustering coefficient  0.3333333333333333\n"
     ]
    }
   ],
   "metadata": {
    "collapsed": false
   }
  }
 ],
 "metadata": {
  "kernelspec": {
   "name": "python3",
   "display_name": "Python 3.8.5 64-bit ('base': conda)"
  },
  "language_info": {
   "codemirror_mode": {
    "name": "ipython",
    "version": 3
   },
   "file_extension": ".py",
   "mimetype": "text/x-python",
   "name": "python",
   "nbconvert_exporter": "python",
   "pygments_lexer": "ipython3",
   "version": "3.8.5"
  },
  "interpreter": {
   "hash": "b64057e63add2b45b1ffc7eab9b09c8889b419c878e2fdf0d08f837f0fc857a7"
  }
 },
 "nbformat": 4,
 "nbformat_minor": 4
}