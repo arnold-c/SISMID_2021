{
 "cells": [
  {
   "cell_type": "markdown",
   "source": [
    "# <span style=\"color:blue;\"> SISMID Module 9: Lab 3 </span>\n",
    "    \n",
    "## <span style=\"color:blue;\"> Infection Spread on Networks </span>\n",
    "\n",
    "#### <span style=\"color:blue;\"> Shweta Bansal, Tom Hladish, Joel Miller\n",
    "\n",
    "## Student name: [Callum Arnold]\n",
    "\n",
    "#### Date: July 15, 2021 (Session 2D)\n",
    "\n"
   ],
   "metadata": {
    "collapsed": false
   }
  },
  {
   "cell_type": "markdown",
   "source": [
    "### Introduction\n",
    "\n",
    "Today, we'll get some new tools under our belts for contact network epidemiology.\n",
    "In particular, we will\n",
    "* Work with contact networks\n",
    "* Simulate disease spread over networks\n",
    "* Use this tool to consider the difference between network structures\n",
    "\n",
    "We'll be doing a number of things that we did in Lab 1, but by implementing them ourselves in Python\n",
    "    \n",
    "<img src=\"disease_network.jpg\" width=\"700\" />\n",
    "\n",
    "\n",
    "### Outline:\n",
    "1. Reading in the Data\n",
    "2. Simulating Infection Spread on Networks\n",
    "3. Structure &rarr; Function\n",
    "    \n",
    "##### As always, our modules are imported first. Notice that we have added a second part to each import statement. Here, we are just nicknaming the library so that we don't have to type out the whole word. For example, ``networkx`` is now called ``nx``"
   ],
   "metadata": {
    "collapsed": false
   }
  },
  {
   "cell_type": "code",
   "execution_count": 1,
   "source": [
    "import networkx as nx           # Library for network functions\n",
    "import numpy as np              # For mathetmatical functions\n",
    "import random as rnd            # For random process functions\n",
    "import matplotlib.pyplot as plt # For plotting functions\n",
    "\n",
    "# Allow for network images to be displayed in notebook. This only needs to be done once in each program\n",
    "%matplotlib inline"
   ],
   "outputs": [],
   "metadata": {
    "collapsed": false
   }
  },
  {
   "cell_type": "markdown",
   "source": [
    "<br>\n",
    "\n",
    "# 1. Reading in the data\n",
    "\n",
    "Today, we're going to use a semi-empirical network for a small town, that was generated using a computational model using public data on households, schools, workpaces, hospitals etc in this town, as well heuristic knowledge about human social behavior.\n"
   ],
   "metadata": {
    "collapsed": false
   }
  },
  {
   "cell_type": "markdown",
   "source": [
    "#### <span style=\"color:orange;\"> Ex 1.1: Load the network data by running the code below."
   ],
   "metadata": {
    "collapsed": false
   }
  },
  {
   "cell_type": "code",
   "execution_count": 2,
   "source": [
    "town_net = nx.read_edgelist(\"town_network_200.txt\", delimiter = \",\", nodetype = int)"
   ],
   "outputs": [],
   "metadata": {
    "collapsed": false
   }
  },
  {
   "cell_type": "markdown",
   "source": [
    "#### <span style=\"color:orange;\"> Ex 1.2: Get to know this town's contact network! Fill in the blanks: \"This town has ___ individuals and on average, they contact ___ other individuals.\"\n",
    "    \n",
    "HINT: You'll need to use the ``<yournetworkname>.number_of_nodes`` and ``<yournetworkname>.number_of_edges`` functions.\n"
   ],
   "metadata": {
    "collapsed": false
   }
  },
  {
   "cell_type": "markdown",
   "source": [],
   "metadata": {}
  },
  {
   "cell_type": "code",
   "execution_count": 3,
   "source": [
    "town_net_nodes = town_net.number_of_nodes()\n",
    "town_net_degree_vals = dict(town_net.degree).values()\n",
    "town_net_avg_degree = sum(town_net_degree_vals) / len(town_net)\n",
    "\n",
    "print(\"This town has\", town_net_nodes, \"individuals and on average, they contact\", town_net_avg_degree, \"other individuals.\")"
   ],
   "outputs": [
    {
     "output_type": "stream",
     "name": "stdout",
     "text": [
      "This town has 500 individuals and on average, they contact 4.968 other individuals.\n"
     ]
    }
   ],
   "metadata": {
    "collapsed": false
   }
  },
  {
   "cell_type": "markdown",
   "source": [
    "# 2. Simulating Infection Spread on Networks\n",
    "\n",
    "Now that we have a network ready to go, we are going to implement an algorithm to model disease transmission through this network: the *percolation model*. One approach to network epidemiology comes from physics, where researchers wanted to describe how a liquid can stochastically percolate through a semi-porous medium, like water percolating through sandstone. As it happens, this model can be readily adapted to describe how an infectious disease can \"percolate\" through a population. The percolation model can be worked out analytically, but today we will be working with it through simulation. To use a percolation model, we need to know two things: the contact network of our population, and the probability ($T$) that a contact will result in disease transmission, given contact between an infected and a susceptible individual. The probability of transmission ($T$), called *transmissibility*, is something that we generally try to estimate for a given disease based on data from real epidemics. The figure below illustrates the model/algorithm:\n",
    "\n",
    "<center>\n",
    "<img src = \"percolation.png\" width=\"700\">\n",
    "</center>\n"
   ],
   "metadata": {
    "collapsed": false
   }
  },
  {
   "cell_type": "markdown",
   "source": [
    "#### <span style=\"color:orange;\"> Ex 2.1: Write down the algorithm as pseudocode for the percolation model."
   ],
   "metadata": {
    "collapsed": false
   }
  },
  {
   "cell_type": "markdown",
   "source": [
    "1. Infect node i at time t0\n",
    "2. For edge j of infectious node i:\n",
    "   1. if node j is not I or R:\n",
    "      1. infect with probability T\n",
    "   2. else:\n",
    "      1. stop"
   ],
   "metadata": {
    "collapsed": false
   }
  },
  {
   "cell_type": "markdown",
   "source": [
    "#### <span style=\"color:orange;\"> Ex 2.2: Write a function (call it `percolation_on_network`) for the algorithm you specified above.\n",
    "\n",
    "* HINT 1: Remember a definition for a function that takes two arguments has this format:\n",
    "    \n",
    "```Python\n",
    "def myfunctionname(inputvariable1, inputvariable2):\n",
    "    \n",
    "    [Calculate output by doing things to input]\n",
    "        \n",
    "return output\n",
    "```\n",
    "    \n",
    "* HINT 2: While there are other ways of doing this, I would suggest keeping track of susceptible/infected/recovered nodes using lists.\n",
    "    \n",
    "* HINT 3: You can use ``yourlist.append(itemtoappend)`` to add an item to a list and you can use ``yourlist.remove(itemtoremove)`` to remove an item from a list. Additionally, you can use ``if myitem in mylist:`` to figure out if an item is in a given list or ``if myitem not in myList`` to do the opposite.\n",
    "    \n",
    "* HINT 4: You can generate random numbers (uniform between 0 and 1) using ``rnd.random()``"
   ],
   "metadata": {
    "collapsed": false
   }
  },
  {
   "cell_type": "code",
   "execution_count": 4,
   "source": [
    "I = []\n",
    "R = []\n",
    "\n",
    "def percolation_on_network(network, beta):\n",
    "    init_node = np.random.randint(low = 1, high = network.number_of_nodes())\n",
    "    I.append(init_node)\n",
    "\n",
    "    while len(I) > 0:\n",
    "        for infected in I:\n",
    "            for neighbor in network.neighbors(infected):\n",
    "                trans_prob = rnd.random()\n",
    "                if ((trans_prob < beta) and (neighbor not in I) and (neighbor not in R)):\n",
    "                    I.append(neighbor)\n",
    "            I.remove(infected)\n",
    "            R.append(infected)\n",
    "    \n",
    "    return(len(R))\n",
    "        "
   ],
   "outputs": [],
   "metadata": {
    "collapsed": false
   }
  },
  {
   "cell_type": "markdown",
   "source": [
    "#### <span style=\"color:orange;\"> Ex 2.3: Next, call the above function to simulate disease spread on your network (`town_net`) with a transmissibility of 0.3. What does the return value from your function mean?\n",
    "    \n",
    "* HINT: Your function call has this format:\n",
    "```Python\n",
    "myanswer = myfunctionname(inputvalue1, inputvalue2)\n",
    "```"
   ],
   "metadata": {
    "collapsed": false
   }
  },
  {
   "cell_type": "code",
   "execution_count": 5,
   "source": [
    "percolation_on_network(network = town_net, beta = 0.3)"
   ],
   "outputs": [
    {
     "output_type": "execute_result",
     "data": {
      "text/plain": [
       "292"
      ]
     },
     "metadata": {},
     "execution_count": 5
    }
   ],
   "metadata": {
    "collapsed": false
   }
  },
  {
   "cell_type": "markdown",
   "source": [
    "#### <span style=\"color:orange;\"> Ex 2.4: Now, let's run the `percolation_on_network()` function a few more times (say 10 times). What happens and why?\n",
    "\n",
    "* HINT: When I say run it multiple times, I mean call the function 10 times and output the result for each run."
   ],
   "metadata": {
    "collapsed": false
   }
  },
  {
   "cell_type": "code",
   "execution_count": 6,
   "source": [
    "import pandas as pd"
   ],
   "outputs": [],
   "metadata": {}
  },
  {
   "cell_type": "code",
   "execution_count": 11,
   "source": [
    "results = {\"Run\": [], \"Final Number Recovered\": []}\n",
    "for i in range(1, 11):\n",
    "    recovered = percolation_on_network(network = town_net, beta = 0.3)\n",
    "    results[\"Run\"].append(i)\n",
    "    results[\"Final Number Recovered\"].append(recovered)\n",
    "\n",
    "pd.DataFrame(results)"
   ],
   "outputs": [
    {
     "output_type": "execute_result",
     "data": {
      "text/plain": [
       "   Run  Final Number Recovered\n",
       "0    1                     374\n",
       "1    2                     375\n",
       "2    3                     381\n",
       "3    4                     382\n",
       "4    5                     383\n",
       "5    6                     386\n",
       "6    7                     392\n",
       "7    8                     393\n",
       "8    9                     395\n",
       "9   10                     396"
      ],
      "text/html": [
       "<div>\n",
       "<style scoped>\n",
       "    .dataframe tbody tr th:only-of-type {\n",
       "        vertical-align: middle;\n",
       "    }\n",
       "\n",
       "    .dataframe tbody tr th {\n",
       "        vertical-align: top;\n",
       "    }\n",
       "\n",
       "    .dataframe thead th {\n",
       "        text-align: right;\n",
       "    }\n",
       "</style>\n",
       "<table border=\"1\" class=\"dataframe\">\n",
       "  <thead>\n",
       "    <tr style=\"text-align: right;\">\n",
       "      <th></th>\n",
       "      <th>Run</th>\n",
       "      <th>Final Number Recovered</th>\n",
       "    </tr>\n",
       "  </thead>\n",
       "  <tbody>\n",
       "    <tr>\n",
       "      <th>0</th>\n",
       "      <td>1</td>\n",
       "      <td>374</td>\n",
       "    </tr>\n",
       "    <tr>\n",
       "      <th>1</th>\n",
       "      <td>2</td>\n",
       "      <td>375</td>\n",
       "    </tr>\n",
       "    <tr>\n",
       "      <th>2</th>\n",
       "      <td>3</td>\n",
       "      <td>381</td>\n",
       "    </tr>\n",
       "    <tr>\n",
       "      <th>3</th>\n",
       "      <td>4</td>\n",
       "      <td>382</td>\n",
       "    </tr>\n",
       "    <tr>\n",
       "      <th>4</th>\n",
       "      <td>5</td>\n",
       "      <td>383</td>\n",
       "    </tr>\n",
       "    <tr>\n",
       "      <th>5</th>\n",
       "      <td>6</td>\n",
       "      <td>386</td>\n",
       "    </tr>\n",
       "    <tr>\n",
       "      <th>6</th>\n",
       "      <td>7</td>\n",
       "      <td>392</td>\n",
       "    </tr>\n",
       "    <tr>\n",
       "      <th>7</th>\n",
       "      <td>8</td>\n",
       "      <td>393</td>\n",
       "    </tr>\n",
       "    <tr>\n",
       "      <th>8</th>\n",
       "      <td>9</td>\n",
       "      <td>395</td>\n",
       "    </tr>\n",
       "    <tr>\n",
       "      <th>9</th>\n",
       "      <td>10</td>\n",
       "      <td>396</td>\n",
       "    </tr>\n",
       "  </tbody>\n",
       "</table>\n",
       "</div>"
      ]
     },
     "metadata": {},
     "execution_count": 11
    }
   ],
   "metadata": {
    "collapsed": false
   }
  },
  {
   "cell_type": "markdown",
   "source": [
    "#### You have just run a **Monte Carlo Simulation**, a term coined in the 1940's during the Manhattan project (nuclear weapons development project during WWII) and run on the ENIAC (one of the first computers in the world).\n",
    "\n",
    "So, let's take the results of these indivdiual simulations and provide some interpretation. In particular, we want to:\n",
    "\n",
    "1. Call the percolation_on_network() function\n",
    "2. Get the returned number of infected individuals\n",
    "3. Decide whether this number of infected indivdiuals is a large epidemic (say, bigger than 5% of the population) or a small outbreak (smaller than or equal to 5% of population size)\n",
    "4. Based on the decision, save the result for number of infected indivdiuals in a large_epidemic list or in a small_outbreak list \n",
    "5. Repeat Steps 1 to 4 a large number of times (say, 250)\n",
    "6. Report the average large_epidemic size, and the average small_outbreak size. Also report the probability_of_epidemic"
   ],
   "metadata": {
    "collapsed": false
   }
  },
  {
   "cell_type": "markdown",
   "source": [
    "#### <span style=\"color:orange;\"> Ex 2.5: Write a new function (called percolation_results) that implements the above algorithm to interpret the results of your Monte Carlo simulations (as large epidemics and small outbreaks)\n",
    "\n",
    "* HINT 1: While you're perfecting this function, I'd recommend using the print function to help you debug it\n",
    "\n",
    "* HINT 2: While you're perfecting this function, I'd only run Step 5 a few times (say, 5) so that the function doesn't take forever to run. Then, once you have it working, you can set it up to run 250 times."
   ],
   "metadata": {
    "collapsed": false
   }
  },
  {
   "cell_type": "code",
   "execution_count": null,
   "source": [],
   "outputs": [],
   "metadata": {
    "collapsed": false
   }
  },
  {
   "cell_type": "markdown",
   "source": [
    "# 3. Structure &rarr; Function: the impact of network structure on disease spread\n",
    "\n",
    "Let's investigate the impact of network structures on epidemic consequences (such as large epidemic size). To do this we will use two *idealized* networks, which we discussed in class. An idealized network isn't explicitly defined by empirical data, but instead is generated (using code) to have certain properties. We will focus on two specific idealized networks: an Erdos-Renyi network and a scale-free network (generated using the configuration model). Here are two visualizations of networks of these types:\n",
    "\n",
    "<center>\n",
    "<table>\n",
    "<tr>\n",
    "<td>\n",
    "<img src = \"erdos_renyi.png\" width=300>\n",
    "</td>\n",
    "<td>\n",
    "</td>\n",
    "<td>\n",
    "<img src = \"scalefree.png\" width=300>\n",
    "</td>\n",
    "</tr>\n",
    "</table>\n",
    "</center>\n",
    "\n",
    "As you might suspect from the visualizations above, these two graphs have very different structure. The Erdos-Renyi network [left] is made up of individuals with approximately the same degree (number of edges or contacts). The scale-free network [right], on the other hand, is made up mostly of nodes with very low degree (1 or 2) and a few nodes with very high degree. The key to making these two networks comparable is that they both have the same average degree."
   ],
   "metadata": {
    "collapsed": false
   }
  },
  {
   "cell_type": "markdown",
   "source": [
    "#### <span style=\"color:orange;\"> Ex 3.1: Based on the above, what is different about the interactions between individuals (i.e. degrees) in these two networks? How do you think you could express this statistically? (Text answer only.)"
   ],
   "metadata": {
    "collapsed": false
   }
  },
  {
   "cell_type": "markdown",
   "source": [],
   "metadata": {
    "collapsed": false
   }
  },
  {
   "cell_type": "markdown",
   "source": [
    "#### <span style=\"color:orange;\"> Ex 3.2: What is your hypothesis about the spread of infection in these two networks? Which do you expect to result in larger epidemics?"
   ],
   "metadata": {
    "collapsed": false
   }
  },
  {
   "cell_type": "markdown",
   "source": [],
   "metadata": {
    "collapsed": false
   }
  },
  {
   "cell_type": "markdown",
   "source": [
    "#### <span style=\"color:orange;\"> Ex 3.3: Add code below to read these two networks from their edgelists: `network_er.txt` and `network_scalefree.txt`\n"
   ],
   "metadata": {
    "collapsed": false
   }
  },
  {
   "cell_type": "code",
   "execution_count": null,
   "source": [],
   "outputs": [],
   "metadata": {
    "collapsed": false
   }
  },
  {
   "cell_type": "markdown",
   "source": [
    "#### <span style=\"color:orange;\"> Ex 3.4: Using these two new networks, simulate the spread of a lowly transmissible disease like SARS (T = 0.1) through both populations.\n",
    "* HINT 1: Use your ``percolation_results()`` function for this\n",
    "    \n",
    "* HINT 2: You may want to look at any/all output (more than just the average size) to get a clear idea of what is happening."
   ],
   "metadata": {
    "collapsed": false
   }
  },
  {
   "cell_type": "code",
   "execution_count": null,
   "source": [],
   "outputs": [],
   "metadata": {
    "collapsed": false
   }
  },
  {
   "cell_type": "markdown",
   "source": [
    "#### <span style=\"color:orange;\"> Ex 3.5: Using these two new networks, simulate the spread of a highly transmissible disease like smallpox (T = 0.5) through both populations."
   ],
   "metadata": {
    "collapsed": false
   }
  },
  {
   "cell_type": "code",
   "execution_count": null,
   "source": [],
   "outputs": [],
   "metadata": {
    "collapsed": false
   }
  },
  {
   "cell_type": "markdown",
   "source": [
    "#### Now, let's look at what these results might look like across the whole range of transmissibility values.\n",
    "\n",
    "<img src = \"percolation_results.png\" width=900>\n",
    "\n",
    "\n",
    "\n",
    "#### <span style=\"color:orange;\"> Ex 3.6: Provide an explanation of the results above. Explain the epidemic outcomes in terms of the structures of the two networks. Do they support your hypothesis above?\n",
    "    \n",
    "* HINT: Use the network visualizations above to gain some intuition"
   ],
   "metadata": {
    "collapsed": false
   }
  },
  {
   "cell_type": "markdown",
   "source": [],
   "metadata": {
    "collapsed": false
   }
  }
 ],
 "metadata": {
  "kernelspec": {
   "name": "python3",
   "display_name": "Python 3.8.5 64-bit ('base': conda)"
  },
  "language_info": {
   "codemirror_mode": {
    "name": "ipython",
    "version": 3
   },
   "file_extension": ".py",
   "mimetype": "text/x-python",
   "name": "python",
   "nbconvert_exporter": "python",
   "pygments_lexer": "ipython3",
   "version": "3.8.5"
  },
  "name": "Case_study 4: Dolphin Social Networks.ipynb",
  "interpreter": {
   "hash": "b64057e63add2b45b1ffc7eab9b09c8889b419c878e2fdf0d08f837f0fc857a7"
  }
 },
 "nbformat": 4,
 "nbformat_minor": 4
}