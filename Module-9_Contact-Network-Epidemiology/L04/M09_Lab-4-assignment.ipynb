{
 "cells": [
  {
   "cell_type": "markdown",
   "source": [
    "# <span style=\"color:blue;\"> SISMID Module 9: Lab 4 </span>\n",
    "    \n",
    "## <span style=\"color:blue;\"> Assessing Interventions on Contact Networks </span>\n",
    "\n",
    "#### <span style=\"color:blue;\"> Shweta Bansal, Tom Hladish, Joel Miller\n",
    "\n",
    "## Student name: [Callum Arnold]\n",
    "\n",
    "#### Date: July 16, 2021 (Session 3B)\n",
    "\n"
   ],
   "metadata": {
    "collapsed": true
   }
  },
  {
   "cell_type": "markdown",
   "source": [
    "### Introduction\n",
    "\n",
    "Today, we will focus on assessing the effectiveness of public health intervention strategies. Public health interventions, such as vaccination, are crucial for the prevention and management of human infectious diseases such as measles, influenza, and pertussis. However, testing the effectiveness of such interventions in a controlled study can be highly resource-intensive and ethically infeasible. Mathematical models, such as contact network models, provide us a computational laboratory to carry out such large scale public health experiments.\n",
    "    \n",
    "We will take advantage of our work in Lab 3 which allows us to simulate an infectious disease outbreak in a population's contact network. We will test the effectiveness of a few public health interventions by altering our contact network or the transmission characteristics to reflect each intervention, and then simulate a disease outbreak to consider the epidemiological consequences of each action.\n",
    "    \n",
    "### Outline:\n",
    "1. Designing network-based interventions\n",
    "2. Implementing network-based interventions\n",
    "3. Evaluating network-based interventions\n",
    "\n",
    "#### First things first, let's load the necessary modules."
   ],
   "metadata": {
    "collapsed": false
   }
  },
  {
   "cell_type": "code",
   "execution_count": 1,
   "source": [
    "import matplotlib.pyplot as plt  # a module to create plots\n",
    "import numpy as np               # a module with useful statistical and numerical tools\n",
    "import numpy.random as nprnd     # another module with useful tools related to random numbers\n",
    "import random as rnd             # a module for some special tasks related to random numbers\n",
    "import networkx as nx            # a module for working with networks\n",
    "import sismid_mod9 as sismid     # a module with useful "
   ],
   "outputs": [],
   "metadata": {
    "collapsed": false
   }
  },
  {
   "cell_type": "markdown",
   "source": [
    "<br>\n",
    "\n",
    "# 1. Designing Network-based Interventions:\n",
    "\n",
    "When considering control strategies on contact networks, we have three levers: nodes, edges and transmissibility. These three levers give rise to a three classes of network-based interventions:\n",
    "\n",
    "#### Transmission-reducing interventions:\n",
    "These are strategies that reduce the transmissibility for some interactions.\n",
    "\n",
    "#### <span style=\"color:orange;\"> Ex 1.1: Come up with a transmission-reducing intervention (not discussed in lecture) and describe why it fits within this category. "
   ],
   "metadata": {
    "collapsed": false
   }
  },
  {
   "cell_type": "markdown",
   "source": [
    "If we imagine the we have a non-airborne disease where fomite transmission is\n",
    "a substantial contributor, we may include hand washing as an intervention to\n",
    "redcude the transmission probability"
   ],
   "metadata": {
    "collapsed": false
   }
  },
  {
   "cell_type": "markdown",
   "source": [
    "#### Contact-reducing interventions:\n",
    "These are strategies that reduce some contacts in the population.\n",
    "\n",
    "#### <span style=\"color:orange;\"> Ex 1.2: Come up with a contact-reducing intervention (not discussed in lecture) and describe why it fits within this category. "
   ],
   "metadata": {
    "collapsed": false
   }
  },
  {
   "cell_type": "markdown",
   "source": [
    "We could imagine the enforcement of social gathering restrictions, such as a\n",
    "stay at home order, as a means of reducing contacts"
   ],
   "metadata": {
    "collapsed": false
   }
  },
  {
   "cell_type": "markdown",
   "source": [
    "#### Immunization:\n",
    "These are strategies that eliminate an individual from the pool of susceptible individuals."
   ],
   "metadata": {
    "collapsed": false
   }
  },
  {
   "cell_type": "markdown",
   "source": [
    "#### <span style=\"color:orange;\"> Ex 1.3: Amongst these three categories, which do you hypothesize to be most effective (without any other knowlege about the effectiveness or implementation of each strategy) for reducing population-level impact?"
   ],
   "metadata": {
    "collapsed": false
   }
  },
  {
   "cell_type": "markdown",
   "source": [
    "Transmission probability reduction is most likely the most effective"
   ],
   "metadata": {
    "collapsed": false
   }
  },
  {
   "cell_type": "markdown",
   "source": [
    "# 2. Implementing Network-based Interventions:\n",
    "\n",
    "Today, we will consider two specific network-based interventions: social distancing (a contact-reducing intervention), and immunization (both random vaccination and degree based vaccination).\n",
    "\n",
    "#### Social Distancing\n",
    "This is a public health strategy in which individuals in a host population are requested to or required to restrict their activities, thereby limiting their contacts. An individual heeding this recommendation would choose not to have certain contacts. We can choose to model this by removing random edges for every individual. We can think of the strategy being enforced at some restriction level. For example, at a restriction level, $\\rho$, of 20%, each compliant individual would reduce their contacts (i.e. edges) by 20%.\n",
    "\n",
    "Based on this network-based model of social distancing, let's implement this strategy. \n",
    "* HINT 1: In previous labs you have learned how to remove nodes from a network. Additionally, the *networkx* package allows you to add and remove edges from a network. The functions (very conveniently) are called `add_edge()` and `remove_edge()`. You can also remove edges or nodes from a list using the function `remove_edges_from(your_list)` or `remove_nodes_from(your_list)`.\n",
    "\n",
    "* HINT 2: If using the `add_edge()` and `remove_edge()` functions, you may need to refer to edges as `add_edge(*edge)` and `remove_edge(*edge)` - remembering to use the asterisk before the edge variable.\n",
    "\n",
    "* HINT 3: To get a random sample of something (say 10 random edges from an edge list) you can use `rnd.sample(edge_list, 10)`.\n",
    "\n",
    "* HINT 4: It may be useful to create copies of the input network to avoid permanently altering the original."
   ],
   "metadata": {
    "collapsed": false
   }
  },
  {
   "cell_type": "markdown",
   "source": [
    "Now, we're finally ready to start implementing a social distancing function\n",
    "\n",
    "#### <span style=\"color:orange;\"> Ex 2.1: Write out an algorithm for implementing the social distancing strategy with a certain restriction level (``rho``).\n",
    "    \n",
    "* HINT 1: This is just the algorithm (i.e. the recipe or steps), don't write code yet.\n",
    "\n",
    "* HINT 2: Try to use the actions of choice, edge removal and identifying a node's contacts so that we can take advantage of the new tools we've learned about"
   ],
   "metadata": {
    "collapsed": false
   }
  },
  {
   "cell_type": "markdown",
   "source": [
    "```\n",
    "def social_distance(network, rho):\n",
    "\n",
    "    network_copy = network.copy()\n",
    "    network_nodes = list(all the network nodes)\n",
    "    \n",
    "    for node in network_nodes:\n",
    "        tot_numb_edges = count(number of edges)\n",
    "        remove_numb_edges = tot_numb_edges * rho\n",
    "        node_edges = list(all the edges of the node)\n",
    "        \n",
    "        remove_edges = rnd.sample(node_edges, remove_numb_edges)\n",
    "        network_copy = network_copy.remove_edge(remove_edges)\n",
    "        \n",
    "    return network_copy\n",
    "```"
   ],
   "metadata": {
    "collapsed": false
   }
  },
  {
   "cell_type": "markdown",
   "source": [
    "#### <span style=\"color:orange;\"> Ex 2.2: Write a new function (call it `social_distance()`) that implements the social distancing strategy based on the algorithm you've written above.\n",
    "    \n",
    "* HINT 1: Your function should have a few inputs: the network and a restriction level\n",
    "\n",
    "* HINT 2: Your function should return an altered network (you're not simulating an epidemic yet!)"
   ],
   "metadata": {
    "collapsed": false
   }
  },
  {
   "cell_type": "code",
   "execution_count": 20,
   "source": [
    "def social_distance(network, rho):\n",
    "    \n",
    "    network_copy = network.copy()\n",
    "    network_nodes = list(network_copy.nodes())\n",
    "\n",
    "    for node in network_nodes:\n",
    "        node_edges = list(network_copy.edges(node))\n",
    "        tot_num_edges = len(node_edges)\n",
    "        remove_num_edges = int(tot_num_edges * rho)\n",
    "\n",
    "        select_remove_edges = rnd.sample(node_edges, remove_num_edges)\n",
    "        network_copy.remove_edges_from(select_remove_edges)\n",
    "\n",
    "    return network_copy\n"
   ],
   "outputs": [],
   "metadata": {
    "collapsed": false
   }
  },
  {
   "cell_type": "markdown",
   "source": [
    "<br>\n",
    "\n",
    "#### Immunization:\n",
    "\n",
    "Immunization removes individuals from the susceptible pool, making them unable to 1) be infected and 2) infect others in their network. The most common way this is implemented is through vaccination. For this strategy, we need to consider the number of individuals to be removed from the susceptible pool and whether they are *targeted* or *random*. In both cases, we'll be assuming the vaccine is 100\\% effective."
   ],
   "metadata": {
    "collapsed": false
   }
  },
  {
   "cell_type": "markdown",
   "source": [
    "#### <span style=\"color:orange;\"> Ex 2.3: Write out an algorithm for implementing the vaccination strategy on some proportion (``vacc_coverage``) of the network, where the individuals you vaccinate are random individuals within the population."
   ],
   "metadata": {
    "collapsed": false
   }
  },
  {
   "cell_type": "markdown",
   "source": [
    "```\n",
    "def random_vaccination(network, vacc_coverage):\n",
    "    network_copy = network.copy()\n",
    "    network_nodes = list(all the network nodes)\n",
    "    num_vacc = length(network_nodes) * vacc_coverage\n",
    "    \n",
    "    vacc_nodes = rnd.sample(network_nodes, num_vacc)\n",
    "\n",
    "    network_copy.remove_node(vacc_nodes)\n",
    "        \n",
    "    return network_copy\n",
    "```"
   ],
   "metadata": {
    "collapsed": false
   }
  },
  {
   "cell_type": "markdown",
   "source": [
    "#### <span style=\"color:orange;\"> Ex 2.4: Write a new function (call it `random_vaccination()`) that implements the vaccination strategy based on the algorithm you've written above.\n",
    "* HINT: Your function inputs should include the network, and the vaccination coverage rate (``vacc_coverage``)"
   ],
   "metadata": {
    "collapsed": false
   }
  },
  {
   "cell_type": "code",
   "execution_count": 50,
   "source": [
    "def random_vaccination(network, vacc_coverage):\n",
    "    network_copy = network.copy()\n",
    "    network_nodes = list(network_copy.nodes())\n",
    "    num_vacc = int(len(network_nodes) * vacc_coverage)\n",
    "    \n",
    "    vacc_nodes = rnd.sample(network_nodes, num_vacc)\n",
    "    network_copy.remove_nodes_from(vacc_nodes)\n",
    "        \n",
    "    return network_copy"
   ],
   "outputs": [],
   "metadata": {
    "collapsed": false
   }
  },
  {
   "cell_type": "markdown",
   "source": [
    "#### <span style=\"color:orange;\"> Ex 2.5: What if you now wanted to vaccinate a targeted proportion of the population (e.g. high degree indivdiuals). What would you change about your algorithim (Q3a) in order to accomplish this?"
   ],
   "metadata": {
    "collapsed": false
   }
  },
  {
   "cell_type": "markdown",
   "source": [
    "You would start by vaccinating the node with highest degree and go down the list"
   ],
   "metadata": {
    "collapsed": false
   }
  },
  {
   "cell_type": "markdown",
   "source": [
    "#### <span style=\"color:orange;\"> Ex 2.6: Write a new function (call it `targeted_vaccination()`) that implements the degree targeted vaccination strategy.\n",
    "* HINT: Don't forget to take advantage of the ``find_highest_degree_nodes(yournetwork, yourdesirednumberofnodes)`` function from the `sismid` library."
   ],
   "metadata": {
    "collapsed": false
   }
  },
  {
   "cell_type": "code",
   "execution_count": 54,
   "source": [
    "def targeted_vaccination(network, vacc_coverage):\n",
    "    network_copy = network.copy()\n",
    "    network_nodes = list(network_copy.nodes())\n",
    "    num_vacc = int(len(network_nodes) * vacc_coverage)\n",
    "    \n",
    "    vacc_nodes = sismid.find_highest_degree_nodes(network_copy, num_vacc)\n",
    "    network_copy.remove_nodes_from(vacc_nodes)\n",
    "        \n",
    "    return network_copy"
   ],
   "outputs": [],
   "metadata": {
    "collapsed": false
   }
  },
  {
   "cell_type": "markdown",
   "source": [
    "<br>\n",
    "\n",
    "# 3. Evaluating Network-based Interventions:\n",
    "\n",
    "We are finally ready to evaluate the effectiveness of network-based control strategies. Our goal is to find which of the three strategies discussed above will be the most effective for a particular network.\n",
    "This is a semi-empircal contact network based on data from the city of Vancouver, Canada (Ref: Meyeres et al, 2005; Bansal et al, 2010)."
   ],
   "metadata": {
    "collapsed": false
   }
  },
  {
   "cell_type": "markdown",
   "source": [
    "First, we need to set up an experiment with a control (no intervention).\n",
    "\n",
    "The percolation simulation code is now in the sismid_mod9 library, called `sismid.percolation_results(yournetwork, yourtransmissibilityvalue)`. You can use this function to calculate the average large epidemic and the average small outbreak size for a particular network over 250 simulations."
   ],
   "metadata": {
    "collapsed": false
   }
  },
  {
   "cell_type": "markdown",
   "source": [
    "#### <span style=\"color:orange;\"> Ex 3.1:  Read in the small town network we worked with last week (``\"town_network_200.txt\"``) and run the percolation model to find the epidemic consequences when T= 0.25 and there is no intervention.\n",
    "* HINT 1: Refer to Lab 3 to see how the network was read in from the text file.\n",
    "\n",
    "* HINT 2: Print your results!"
   ],
   "metadata": {
    "collapsed": false
   }
  },
  {
   "cell_type": "code",
   "execution_count": 4,
   "source": [
    "town_network_200 = nx.read_edgelist(\"town_network_200.txt\", delimiter = \",\", nodetype = int)"
   ],
   "outputs": [],
   "metadata": {
    "collapsed": false
   }
  },
  {
   "cell_type": "code",
   "execution_count": 78,
   "source": [
    "percolation_results = sismid.percolation_results(town_network_200, 0.25)"
   ],
   "outputs": [],
   "metadata": {}
  },
  {
   "cell_type": "code",
   "execution_count": 79,
   "source": [
    "print(\"The average large epidemic size was:\", round(percolation_results[0], 2))\n",
    "print(\"The average small outbreak size was:\", round(percolation_results[1], 2))"
   ],
   "outputs": [
    {
     "output_type": "stream",
     "name": "stdout",
     "text": [
      "The average large epidemic size was: 153.72\n",
      "The average small outbreak size was: 4.77\n"
     ]
    }
   ],
   "metadata": {}
  },
  {
   "cell_type": "markdown",
   "source": [
    "Now we're ready to implement our treatments\n",
    "\n",
    "#### <span style=\"color:orange;\"> Ex 3.2: Now run the simulation using your social distancing intervention strategy (where ``rho`` = 0.2), your random vaccination strategy (where ``vacc_coverage = 0.2``)  and your targeted vaccination strategy (where ``vacc_coverage = 0.2``).\n",
    "* HINT: Be careful! You're altering the network with each strategy which is permanent."
   ],
   "metadata": {
    "collapsed": false
   }
  },
  {
   "cell_type": "code",
   "execution_count": 80,
   "source": [
    "soc_dist_network = social_distance(network = town_network_200, rho = 0.2)\n",
    "soc_dist_results = sismid.percolation_results(soc_dist_network, 0.25)\n",
    "print(\"Social distancing scenario\")\n",
    "print(\"The average large epidemic size was:\", round(soc_dist_results[0], 2))\n",
    "print(\"The average small outbreak size was:\", round(soc_dist_results[1], 2))"
   ],
   "outputs": [
    {
     "output_type": "stream",
     "name": "stdout",
     "text": [
      "Social distancing scenario\n",
      "The average large epidemic size was: 54.62\n",
      "The average small outbreak size was: 3.97\n"
     ]
    }
   ],
   "metadata": {
    "collapsed": false
   }
  },
  {
   "cell_type": "code",
   "execution_count": 81,
   "source": [
    "rand_vacc_network = random_vaccination(network = town_network_200, vacc_coverage=0.2)\n",
    "rand_vacc_results = sismid.percolation_results(rand_vacc_network, 0.25)\n",
    "print(\"Random vaccination scenario\")\n",
    "print(\"The average large epidemic size was:\", round(rand_vacc_results[0], 2))\n",
    "print(\"The average small outbreak size was:\", round(rand_vacc_results[1], 2))"
   ],
   "outputs": [
    {
     "output_type": "stream",
     "name": "stdout",
     "text": [
      "Random vaccination scenario\n",
      "The average large epidemic size was: 60.26\n",
      "The average small outbreak size was: 4.01\n"
     ]
    }
   ],
   "metadata": {}
  },
  {
   "cell_type": "code",
   "execution_count": 83,
   "source": [
    "targ_vacc_network = targeted_vaccination(network = town_network_200, vacc_coverage=0.2)\n",
    "targ_vacc_results = sismid.percolation_results(rand_vacc_network, 0.25)\n",
    "print(\"Targeted vaccination scenario\")\n",
    "print(\"The average large epidemic size was:\", round(targ_vacc_results[0], 2))\n",
    "print(\"The average small outbreak size was:\", round(targ_vacc_results[1], 2))"
   ],
   "outputs": [
    {
     "output_type": "stream",
     "name": "stdout",
     "text": [
      "Targeted vaccination scenario\n",
      "The average large epidemic size was: 56.45\n",
      "The average small outbreak size was: 3.24\n"
     ]
    }
   ],
   "metadata": {}
  },
  {
   "cell_type": "markdown",
   "source": [
    "Now, it's time to interpret our results.\n",
    "\n",
    "#### <span style=\"color:orange;\"> Ex 3.3: Which strategy is best (based on the parameters we set)? Did this match your expectation (in Q1c)?"
   ],
   "metadata": {
    "collapsed": false
   }
  },
  {
   "cell_type": "markdown",
   "source": [],
   "metadata": {
    "collapsed": false
   }
  },
  {
   "cell_type": "markdown",
   "source": [
    "#### <span style=\"color:orange;\"> Ex 3.4: In the case of the vaccination strategies, we were only protecting 20\\% of the population directly. Did the epidemic size only reduce by 20\\%? This additional benefit (if any) is called *herd immunity*. Why does *herd immunity* happen from a network perspective?"
   ],
   "metadata": {
    "collapsed": false
   }
  },
  {
   "cell_type": "markdown",
   "source": [],
   "metadata": {
    "collapsed": false
   }
  },
  {
   "cell_type": "markdown",
   "source": [
    "#### <span style=\"color:orange;\"> Ex 3.5: How do these strategies compare practically/logistically/ethically for implementation? How does that tradeoff with their effectiveness?"
   ],
   "metadata": {
    "collapsed": false
   }
  },
  {
   "cell_type": "markdown",
   "source": [],
   "metadata": {
    "collapsed": false
   }
  },
  {
   "cell_type": "markdown",
   "source": [
    "Evaluating our assumptions.\n",
    "\n",
    "We made a number of unrealistic simplifying assumptions along the way (a necessary part of modeling). For example, we assumed a perfect vaccine; we assuemd a perfectly complying population; we assumed a perfect ability to identify high degree indivdiuals. \n",
    "\n",
    "#### <span style=\"color:orange;\"> Ex 3.6: What other ways do you think our model is not realistic? How would you extend the intervention models to incorporate one of these features?"
   ],
   "metadata": {
    "collapsed": false
   }
  },
  {
   "cell_type": "markdown",
   "source": [],
   "metadata": {
    "collapsed": false
   }
  },
  {
   "cell_type": "markdown",
   "source": [
    "#### <span style=\"color:orange;\"> Ex 3.7: We controlled for public health measures here (using a 20\\% rate of implementing each intervention). Is that an appropriate feature of the experiment to control from a network perspective?\n",
    "* HINT: Think about what's happening to the number of nodes/edges in each treatment."
   ],
   "metadata": {
    "collapsed": false
   }
  },
  {
   "cell_type": "markdown",
   "source": [],
   "metadata": {
    "collapsed": false
   }
  }
 ],
 "metadata": {
  "kernelspec": {
   "name": "python3",
   "display_name": "Python 3.8.5 64-bit ('base': conda)"
  },
  "language_info": {
   "codemirror_mode": {
    "name": "ipython",
    "version": 3
   },
   "file_extension": ".py",
   "mimetype": "text/x-python",
   "name": "python",
   "nbconvert_exporter": "python",
   "pygments_lexer": "ipython3",
   "version": "3.8.5"
  },
  "interpreter": {
   "hash": "b64057e63add2b45b1ffc7eab9b09c8889b419c878e2fdf0d08f837f0fc857a7"
  }
 },
 "nbformat": 4,
 "nbformat_minor": 4
}